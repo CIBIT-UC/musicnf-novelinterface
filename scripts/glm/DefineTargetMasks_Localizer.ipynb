{
 "cells": [
  {
   "cell_type": "markdown",
   "metadata": {},
   "source": [
    "# Define target (PMC) masks for each participant"
   ]
  },
  {
   "cell_type": "code",
   "execution_count": null,
   "metadata": {},
   "outputs": [],
   "source": [
    "from src.my_settings import settings\n",
    "import os\n",
    "from nilearn.glm import threshold_stats_img\n",
    "from nilearn.plotting import view_img\n",
    "\n",
    "sett = settings()\n",
    "\n",
    "ap = 0.05\n",
    "hc = 'fpr'\n",
    "ct = 10"
   ]
  },
  {
   "cell_type": "code",
   "execution_count": null,
   "metadata": {},
   "outputs": [],
   "source": [
    "sub_id = '07'"
   ]
  },
  {
   "cell_type": "code",
   "execution_count": null,
   "metadata": {},
   "outputs": [],
   "source": [
    "# Load the activation map for sub_id of the localizer contrasting motor imagery with rest\n",
    "# example: /Volumes/T7/BIDS-MUSICNF/derivatives/nilearn-glm/sub-01_task-loc_stat-z_con-MotorImagery.nii.gz\n",
    "\n",
    "map_path = os.path.join(sett['out_glm_path'], f'sub-{sub_id}_task-loc_space-MNI152NLin2009cAsym_stat-z_con-MotorImagery.nii.gz')\n",
    "\n",
    "# Threshold the map\n",
    "thresholded_map, thres = threshold_stats_img(map_path, alpha=ap, height_control=hc, cluster_threshold=ct)\n",
    "print(f'Threshold: {thres}')"
   ]
  },
  {
   "cell_type": "code",
   "execution_count": null,
   "metadata": {},
   "outputs": [],
   "source": [
    "t1w_path = os.path.join(sett['derivatives_path'], f'sub-{sub_id}', 'anat', f'sub-{sub_id}_space-MNI152NLin2009cAsym_desc-preproc_T1w.nii.gz')\n",
    "\n",
    "view_img(thresholded_map, threshold=thres, colorbar=True, title='Thresholded map', bg_img=t1w_path,\n",
    "         resampling_interpolation='linear')"
   ]
  }
 ],
 "metadata": {
  "kernelspec": {
   "display_name": "musicnf-novelinterface",
   "language": "python",
   "name": "python3"
  },
  "language_info": {
   "codemirror_mode": {
    "name": "ipython",
    "version": 3
   },
   "file_extension": ".py",
   "mimetype": "text/x-python",
   "name": "python",
   "nbconvert_exporter": "python",
   "pygments_lexer": "ipython3",
   "version": "3.13.0"
  }
 },
 "nbformat": 4,
 "nbformat_minor": 2
}
