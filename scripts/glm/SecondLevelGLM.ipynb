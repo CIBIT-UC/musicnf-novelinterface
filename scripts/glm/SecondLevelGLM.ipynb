{
 "cells": [
  {
   "cell_type": "markdown",
   "metadata": {},
   "source": [
    "# Second Level GLMs\n",
    "For the Localizer, NF, and Sham Runs."
   ]
  },
  {
   "cell_type": "code",
   "execution_count": 4,
   "metadata": {},
   "outputs": [],
   "source": [
    "from src.my_settings import settings\n",
    "from src.glm import secondlevel\n",
    "from nilearn import plotting as nlp\n",
    "from nilearn.glm import threshold_stats_img\n",
    "\n",
    "sett = settings()\n",
    "\n",
    "alpha = 0.05\n",
    "hc = 'bonferroni'\n",
    "ct = 10"
   ]
  },
  {
   "cell_type": "markdown",
   "metadata": {},
   "source": [
    "## NF Runs"
   ]
  },
  {
   "cell_type": "code",
   "execution_count": 5,
   "metadata": {},
   "outputs": [],
   "source": [
    "# Define\n",
    "task_label = 'nf'\n",
    "contrast_renamed_list = ['MotorImageryOneTwo', \n",
    "                         'MotorImageryOne', \n",
    "                         'MotorImageryTwo', \n",
    "                         'MotorImageryOneMinusMotorImageryTwo']"
   ]
  },
  {
   "cell_type": "code",
   "execution_count": 6,
   "metadata": {},
   "outputs": [
    {
     "name": "stdout",
     "output_type": "stream",
     "text": [
      "Running 2nd level for contrast MotorImageryOneTwo\n",
      "Number of zmap files: 22\n",
      "Finished 2nd level for contrast MotorImageryOneTwo\n",
      "Running 2nd level for contrast MotorImageryOne\n",
      "Number of zmap files: 22\n",
      "Finished 2nd level for contrast MotorImageryOne\n",
      "Running 2nd level for contrast MotorImageryTwo\n",
      "Number of zmap files: 22\n",
      "Finished 2nd level for contrast MotorImageryTwo\n",
      "Running 2nd level for contrast MotorImageryOneMinusMotorImageryTwo\n",
      "Number of zmap files: 22\n",
      "Finished 2nd level for contrast MotorImageryOneMinusMotorImageryTwo\n"
     ]
    }
   ],
   "source": [
    "secondlevel(sett, task_label, contrast_renamed_list)"
   ]
  },
  {
   "cell_type": "markdown",
   "metadata": {},
   "source": [
    "## Sham Runs"
   ]
  },
  {
   "cell_type": "code",
   "execution_count": 7,
   "metadata": {},
   "outputs": [],
   "source": [
    "# Define\n",
    "task_label = 'sham'\n",
    "contrast_renamed_list = ['MotorImageryOneTwo', \n",
    "                         'MotorImageryOne', \n",
    "                         'MotorImageryTwo', \n",
    "                         'MotorImageryOneMinusMotorImageryTwo']"
   ]
  },
  {
   "cell_type": "code",
   "execution_count": 8,
   "metadata": {},
   "outputs": [
    {
     "name": "stdout",
     "output_type": "stream",
     "text": [
      "Running 2nd level for contrast MotorImageryOneTwo\n",
      "Number of zmap files: 22\n",
      "Finished 2nd level for contrast MotorImageryOneTwo\n",
      "Running 2nd level for contrast MotorImageryOne\n",
      "Number of zmap files: 22\n",
      "Finished 2nd level for contrast MotorImageryOne\n",
      "Running 2nd level for contrast MotorImageryTwo\n",
      "Number of zmap files: 22\n",
      "Finished 2nd level for contrast MotorImageryTwo\n",
      "Running 2nd level for contrast MotorImageryOneMinusMotorImageryTwo\n",
      "Number of zmap files: 22\n",
      "Finished 2nd level for contrast MotorImageryOneMinusMotorImageryTwo\n"
     ]
    }
   ],
   "source": [
    "secondlevel(sett, task_label, contrast_renamed_list)"
   ]
  },
  {
   "cell_type": "markdown",
   "metadata": {},
   "source": [
    "## Localizer Runs"
   ]
  },
  {
   "cell_type": "code",
   "execution_count": 9,
   "metadata": {},
   "outputs": [],
   "source": [
    "# Define\n",
    "task_label = 'loc'\n",
    "contrast_renamed_list = ['MotorImagery',\n",
    "                         'MusicMinusNoise',\n",
    "                         'MotorImageryMinusMusic',\n",
    "                         'MotorImageryMinusNoise',\n",
    "                         'MotorImageryMinusReport',\n",
    "                         'MotorImageryMusicMinusNoise']"
   ]
  },
  {
   "cell_type": "code",
   "execution_count": 10,
   "metadata": {},
   "outputs": [
    {
     "name": "stdout",
     "output_type": "stream",
     "text": [
      "Running 2nd level for contrast MotorImagery\n",
      "Number of zmap files: 21\n",
      "Finished 2nd level for contrast MotorImagery\n",
      "Running 2nd level for contrast MusicMinusNoise\n",
      "Number of zmap files: 21\n",
      "Finished 2nd level for contrast MusicMinusNoise\n",
      "Running 2nd level for contrast MotorImageryMinusMusic\n",
      "Number of zmap files: 21\n",
      "Finished 2nd level for contrast MotorImageryMinusMusic\n",
      "Running 2nd level for contrast MotorImageryMinusNoise\n",
      "Number of zmap files: 21\n",
      "Finished 2nd level for contrast MotorImageryMinusNoise\n",
      "Running 2nd level for contrast MotorImageryMinusReport\n",
      "Number of zmap files: 21\n",
      "Finished 2nd level for contrast MotorImageryMinusReport\n",
      "Running 2nd level for contrast MotorImageryMusicMinusNoise\n",
      "Number of zmap files: 21\n",
      "Finished 2nd level for contrast MotorImageryMusicMinusNoise\n"
     ]
    }
   ],
   "source": [
    "secondlevel(sett, task_label, contrast_renamed_list)"
   ]
  }
 ],
 "metadata": {
  "kernelspec": {
   "display_name": "musicnf-novelinterface",
   "language": "python",
   "name": "python3"
  },
  "language_info": {
   "codemirror_mode": {
    "name": "ipython",
    "version": 3
   },
   "file_extension": ".py",
   "mimetype": "text/x-python",
   "name": "python",
   "nbconvert_exporter": "python",
   "pygments_lexer": "ipython3",
   "version": "3.13.0"
  }
 },
 "nbformat": 4,
 "nbformat_minor": 2
}
