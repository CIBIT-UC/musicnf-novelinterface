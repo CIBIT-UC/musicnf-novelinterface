{
 "cells": [
  {
   "cell_type": "markdown",
   "metadata": {},
   "source": [
    "# Second Level GLMs\n",
    "For the Localizer, NF, and Sham Runs."
   ]
  },
  {
   "cell_type": "code",
   "execution_count": 1,
   "metadata": {},
   "outputs": [],
   "source": [
    "from src.my_settings import settings\n",
    "from src.glm import secondlevel\n",
    "from nilearn import plotting as nlp\n",
    "from nilearn.glm import threshold_stats_img\n",
    "\n",
    "sett = settings()\n",
    "\n",
    "alpha = 0.05\n",
    "hc = 'bonferroni'\n",
    "ct = 10"
   ]
  },
  {
   "cell_type": "markdown",
   "metadata": {},
   "source": [
    "## NF Runs"
   ]
  },
  {
   "cell_type": "code",
   "execution_count": 2,
   "metadata": {},
   "outputs": [],
   "source": [
    "# Define\n",
    "task_label = 'nf'\n",
    "contrast_renamed_list = ['MotorImageryOneTwoMinusRest', \n",
    "                         'MotorImageryOneMinusRest', \n",
    "                         'MotorImageryTwoMinusRest', \n",
    "                         'MotorImageryOneMinusMotorImageryTwo']"
   ]
  },
  {
   "cell_type": "code",
   "execution_count": 3,
   "metadata": {},
   "outputs": [
    {
     "name": "stdout",
     "output_type": "stream",
     "text": [
      "Running 2nd level for contrast MotorImageryOneTwoMinusRest\n",
      "Number of zmap files: 22\n",
      "Finished 2nd level for contrast MotorImageryOneTwoMinusRest\n",
      "Running 2nd level for contrast MotorImageryOneMinusRest\n",
      "Number of zmap files: 22\n",
      "Finished 2nd level for contrast MotorImageryOneMinusRest\n",
      "Running 2nd level for contrast MotorImageryTwoMinusRest\n",
      "Number of zmap files: 22\n",
      "Finished 2nd level for contrast MotorImageryTwoMinusRest\n",
      "Running 2nd level for contrast MotorImageryOneMinusMotorImageryTwo\n",
      "Number of zmap files: 22\n",
      "Finished 2nd level for contrast MotorImageryOneMinusMotorImageryTwo\n"
     ]
    }
   ],
   "source": [
    "secondlevel(sett, task_label, contrast_renamed_list)"
   ]
  },
  {
   "cell_type": "markdown",
   "metadata": {},
   "source": [
    "## Sham Runs"
   ]
  },
  {
   "cell_type": "code",
   "execution_count": 4,
   "metadata": {},
   "outputs": [],
   "source": [
    "# Define\n",
    "task_label = 'sham'\n",
    "contrast_renamed_list = ['MotorImageryOneTwoMinusRest', \n",
    "                         'MotorImageryOneMinusRest', \n",
    "                         'MotorImageryTwoMinusRest', \n",
    "                         'MotorImageryOneMinusMotorImageryTwo']"
   ]
  },
  {
   "cell_type": "code",
   "execution_count": 5,
   "metadata": {},
   "outputs": [
    {
     "name": "stdout",
     "output_type": "stream",
     "text": [
      "Running 2nd level for contrast MotorImageryOneTwoMinusRest\n",
      "Number of zmap files: 22\n",
      "Finished 2nd level for contrast MotorImageryOneTwoMinusRest\n",
      "Running 2nd level for contrast MotorImageryOneMinusRest\n",
      "Number of zmap files: 22\n",
      "Finished 2nd level for contrast MotorImageryOneMinusRest\n",
      "Running 2nd level for contrast MotorImageryTwoMinusRest\n",
      "Number of zmap files: 22\n",
      "Finished 2nd level for contrast MotorImageryTwoMinusRest\n",
      "Running 2nd level for contrast MotorImageryOneMinusMotorImageryTwo\n",
      "Number of zmap files: 22\n",
      "Finished 2nd level for contrast MotorImageryOneMinusMotorImageryTwo\n"
     ]
    }
   ],
   "source": [
    "secondlevel(sett, task_label, contrast_renamed_list)"
   ]
  },
  {
   "cell_type": "markdown",
   "metadata": {},
   "source": [
    "## Localizer Runs"
   ]
  },
  {
   "cell_type": "code",
   "execution_count": 2,
   "metadata": {},
   "outputs": [],
   "source": [
    "# Define\n",
    "task_label = 'loc'\n",
    "contrast_renamed_list = ['MotorImageryMinusRest', 'MusicMinusNoise', 'MotorImageryMinusMusic', 'MotorImageryMinusNoise', 'MotorImageryMinusReport', 'MotorImageryMusicMinusRestNoise']"
   ]
  },
  {
   "cell_type": "code",
   "execution_count": 3,
   "metadata": {},
   "outputs": [
    {
     "name": "stdout",
     "output_type": "stream",
     "text": [
      "Running 2nd level for contrast MotorImageryMinusRest\n",
      "Number of zmap files: 21\n",
      "Finished 2nd level for contrast MotorImageryMinusRest\n",
      "Running 2nd level for contrast MusicMinusNoise\n",
      "Number of zmap files: 21\n",
      "Finished 2nd level for contrast MusicMinusNoise\n",
      "Running 2nd level for contrast MotorImageryMinusMusic\n",
      "Number of zmap files: 21\n",
      "Finished 2nd level for contrast MotorImageryMinusMusic\n",
      "Running 2nd level for contrast MotorImageryMinusNoise\n",
      "Number of zmap files: 21\n",
      "Finished 2nd level for contrast MotorImageryMinusNoise\n",
      "Running 2nd level for contrast MotorImageryMinusReport\n",
      "Number of zmap files: 21\n",
      "Finished 2nd level for contrast MotorImageryMinusReport\n",
      "Running 2nd level for contrast MotorImageryMusicMinusRestNoise\n",
      "Number of zmap files: 21\n",
      "Finished 2nd level for contrast MotorImageryMusicMinusRestNoise\n"
     ]
    }
   ],
   "source": [
    "secondlevel(sett, task_label, contrast_renamed_list)"
   ]
  }
 ],
 "metadata": {
  "kernelspec": {
   "display_name": "musicnf-novelinterface",
   "language": "python",
   "name": "python3"
  },
  "language_info": {
   "codemirror_mode": {
    "name": "ipython",
    "version": 3
   },
   "file_extension": ".py",
   "mimetype": "text/x-python",
   "name": "python",
   "nbconvert_exporter": "python",
   "pygments_lexer": "ipython3",
   "version": "3.13.0"
  }
 },
 "nbformat": 4,
 "nbformat_minor": 2
}
