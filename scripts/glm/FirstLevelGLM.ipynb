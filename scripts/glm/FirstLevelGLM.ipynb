{
 "cells": [
  {
   "cell_type": "markdown",
   "metadata": {},
   "source": [
    "# First Level GLMs\n",
    "For the Localizer, NF, and Sham Runs."
   ]
  },
  {
   "cell_type": "code",
   "execution_count": 1,
   "metadata": {},
   "outputs": [],
   "source": [
    "from src.my_settings import settings\n",
    "from src.glm import firstlevel\n",
    "sett = settings()\n",
    "\n",
    "use_masked = False"
   ]
  },
  {
   "cell_type": "markdown",
   "metadata": {},
   "source": [
    "## NF Runs"
   ]
  },
  {
   "cell_type": "code",
   "execution_count": 2,
   "metadata": {},
   "outputs": [],
   "source": [
    "# Define\n",
    "task_label = 'nf'\n",
    "hp_hz = 0.008\n",
    "contrast_list = ['0.5*MotorImageryOne + 0.5*MotorImageryTwo',\n",
    "                 'MotorImageryOne', \n",
    "                 'MotorImageryTwo', \n",
    "                 'MotorImageryOne - MotorImageryTwo']\n",
    "\n",
    "contrast_renamed_list = ['MotorImageryOneTwo', \n",
    "                         'MotorImageryOne', \n",
    "                         'MotorImageryTwo', \n",
    "                         'MotorImageryOneMinusMotorImageryTwo']\n"
   ]
  },
  {
   "cell_type": "code",
   "execution_count": 3,
   "metadata": {},
   "outputs": [
    {
     "name": "stdout",
     "output_type": "stream",
     "text": [
      "Processing subject 01\n",
      "Found physio file for sub-01 task-nf run-1\n",
      "Found physio file for sub-01 task-nf run-2\n"
     ]
    },
    {
     "name": "stderr",
     "output_type": "stream",
     "text": [
      "Computing run 1 out of 2 runs (go take a coffee, a big one)\n",
      "Masker took 0 seconds       \n",
      "GLM took 2 seconds         \n",
      "Computing run 2 out of 2 runs (3 seconds remaining)\n",
      "Masker took 0 seconds       \n",
      "/opt/anaconda3/envs/musicnf-novelinterface/lib/python3.13/site-packages/nilearn/glm/first_level/first_level.py:707: UserWarning: Mean values of 0 observed. The data have probably been centered.Scaling might not work as expected\n",
      "  Y, _ = mean_scaling(Y, self.signal_scaling)\n",
      "GLM took 1 seconds         \n",
      "\n",
      "Computation of 2 runs done in 6.450767993927002 seconds.\n",
      "\n"
     ]
    },
    {
     "name": "stdout",
     "output_type": "stream",
     "text": [
      "Processing subject 02\n",
      "Found physio file for sub-02 task-nf run-1\n",
      "Found physio file for sub-02 task-nf run-2\n"
     ]
    },
    {
     "name": "stderr",
     "output_type": "stream",
     "text": [
      "Computing run 1 out of 2 runs (go take a coffee, a big one)\n",
      "Masker took 0 seconds       \n",
      "GLM took 1 seconds         \n",
      "Computing run 2 out of 2 runs (2 seconds remaining)\n",
      "Masker took 0 seconds       \n",
      "/opt/anaconda3/envs/musicnf-novelinterface/lib/python3.13/site-packages/nilearn/glm/first_level/first_level.py:707: UserWarning: Mean values of 0 observed. The data have probably been centered.Scaling might not work as expected\n",
      "  Y, _ = mean_scaling(Y, self.signal_scaling)\n",
      "GLM took 1 seconds         \n",
      "\n",
      "Computation of 2 runs done in 4.987360000610352 seconds.\n",
      "\n"
     ]
    },
    {
     "name": "stdout",
     "output_type": "stream",
     "text": [
      "Processing subject 03\n",
      "Found physio file for sub-03 task-nf run-1\n",
      "Found physio file for sub-03 task-nf run-2\n"
     ]
    },
    {
     "name": "stderr",
     "output_type": "stream",
     "text": [
      "Computing run 1 out of 2 runs (go take a coffee, a big one)\n",
      "Masker took 0 seconds       \n",
      "GLM took 1 seconds         \n",
      "Computing run 2 out of 2 runs (2 seconds remaining)\n",
      "Masker took 0 seconds       \n",
      "GLM took 1 seconds         \n",
      "\n",
      "Computation of 2 runs done in 4.801162004470825 seconds.\n",
      "\n"
     ]
    },
    {
     "name": "stdout",
     "output_type": "stream",
     "text": [
      "Processing subject 04\n",
      "Found physio file for sub-04 task-nf run-1\n",
      "Found physio file for sub-04 task-nf run-2\n"
     ]
    },
    {
     "name": "stderr",
     "output_type": "stream",
     "text": [
      "Computing run 1 out of 2 runs (go take a coffee, a big one)\n",
      "Masker took 0 seconds       \n",
      "GLM took 1 seconds         \n",
      "Computing run 2 out of 2 runs (2 seconds remaining)\n",
      "Masker took 0 seconds       \n",
      "/opt/anaconda3/envs/musicnf-novelinterface/lib/python3.13/site-packages/nilearn/glm/first_level/first_level.py:707: UserWarning: Mean values of 0 observed. The data have probably been centered.Scaling might not work as expected\n",
      "  Y, _ = mean_scaling(Y, self.signal_scaling)\n",
      "GLM took 1 seconds         \n",
      "\n",
      "Computation of 2 runs done in 5.129796981811523 seconds.\n",
      "\n"
     ]
    },
    {
     "name": "stdout",
     "output_type": "stream",
     "text": [
      "Processing subject 05\n",
      "Found physio file for sub-05 task-nf run-1\n",
      "Found physio file for sub-05 task-nf run-2\n"
     ]
    },
    {
     "name": "stderr",
     "output_type": "stream",
     "text": [
      "Computing run 1 out of 2 runs (go take a coffee, a big one)\n",
      "Masker took 0 seconds       \n",
      "GLM took 1 seconds         \n",
      "Computing run 2 out of 2 runs (2 seconds remaining)\n",
      "Masker took 0 seconds       \n",
      "/opt/anaconda3/envs/musicnf-novelinterface/lib/python3.13/site-packages/nilearn/glm/first_level/first_level.py:707: UserWarning: Mean values of 0 observed. The data have probably been centered.Scaling might not work as expected\n",
      "  Y, _ = mean_scaling(Y, self.signal_scaling)\n",
      "GLM took 1 seconds         \n",
      "\n",
      "Computation of 2 runs done in 4.88135290145874 seconds.\n",
      "\n"
     ]
    },
    {
     "name": "stdout",
     "output_type": "stream",
     "text": [
      "Processing subject 06\n",
      "Found physio file for sub-06 task-nf run-1\n",
      "Found physio file for sub-06 task-nf run-2\n"
     ]
    },
    {
     "name": "stderr",
     "output_type": "stream",
     "text": [
      "Computing run 1 out of 2 runs (go take a coffee, a big one)\n",
      "Masker took 0 seconds       \n",
      "GLM took 1 seconds         \n",
      "Computing run 2 out of 2 runs (2 seconds remaining)\n",
      "Masker took 0 seconds       \n",
      "GLM took 1 seconds         \n",
      "\n",
      "Computation of 2 runs done in 4.77397894859314 seconds.\n",
      "\n"
     ]
    },
    {
     "name": "stdout",
     "output_type": "stream",
     "text": [
      "Processing subject 07\n",
      "Found physio file for sub-07 task-nf run-1\n",
      "Found physio file for sub-07 task-nf run-2\n"
     ]
    },
    {
     "name": "stderr",
     "output_type": "stream",
     "text": [
      "Computing run 1 out of 2 runs (go take a coffee, a big one)\n",
      "Masker took 0 seconds       \n",
      "/opt/anaconda3/envs/musicnf-novelinterface/lib/python3.13/site-packages/joblib/externals/loky/process_executor.py:752: UserWarning: A worker stopped while some jobs were given to the executor. This can be caused by a too short worker timeout or by a memory leak.\n",
      "  warnings.warn(\n",
      "GLM took 3 seconds         \n",
      "Computing run 2 out of 2 runs (4 seconds remaining)\n",
      "Masker took 0 seconds       \n",
      "GLM took 1 seconds         \n",
      "\n",
      "Computation of 2 runs done in 6.919308185577393 seconds.\n",
      "\n"
     ]
    },
    {
     "name": "stdout",
     "output_type": "stream",
     "text": [
      "Processing subject 08\n",
      "Found physio file for sub-08 task-nf run-1\n",
      "Found physio file for sub-08 task-nf run-2\n"
     ]
    },
    {
     "name": "stderr",
     "output_type": "stream",
     "text": [
      "Computing run 1 out of 2 runs (go take a coffee, a big one)\n",
      "Masker took 0 seconds       \n",
      "GLM took 1 seconds         \n",
      "Computing run 2 out of 2 runs (2 seconds remaining)\n",
      "Masker took 0 seconds       \n",
      "GLM took 1 seconds         \n",
      "\n",
      "Computation of 2 runs done in 4.974717378616333 seconds.\n",
      "\n"
     ]
    },
    {
     "name": "stdout",
     "output_type": "stream",
     "text": [
      "Processing subject 09\n",
      "Found physio file for sub-09 task-nf run-1\n",
      "Found physio file for sub-09 task-nf run-2\n"
     ]
    },
    {
     "name": "stderr",
     "output_type": "stream",
     "text": [
      "Computing run 1 out of 2 runs (go take a coffee, a big one)\n",
      "Masker took 0 seconds       \n",
      "GLM took 1 seconds         \n",
      "Computing run 2 out of 2 runs (2 seconds remaining)\n",
      "Masker took 0 seconds       \n",
      "/opt/anaconda3/envs/musicnf-novelinterface/lib/python3.13/site-packages/nilearn/glm/first_level/first_level.py:707: UserWarning: Mean values of 0 observed. The data have probably been centered.Scaling might not work as expected\n",
      "  Y, _ = mean_scaling(Y, self.signal_scaling)\n",
      "GLM took 1 seconds         \n",
      "\n",
      "Computation of 2 runs done in 5.012183904647827 seconds.\n",
      "\n"
     ]
    },
    {
     "name": "stdout",
     "output_type": "stream",
     "text": [
      "Processing subject 10\n",
      "Found physio file for sub-10 task-nf run-1\n",
      "Found physio file for sub-10 task-nf run-2\n"
     ]
    },
    {
     "name": "stderr",
     "output_type": "stream",
     "text": [
      "Computing run 1 out of 2 runs (go take a coffee, a big one)\n",
      "Masker took 0 seconds       \n",
      "/opt/anaconda3/envs/musicnf-novelinterface/lib/python3.13/site-packages/joblib/externals/loky/process_executor.py:752: UserWarning: A worker stopped while some jobs were given to the executor. This can be caused by a too short worker timeout or by a memory leak.\n",
      "  warnings.warn(\n",
      "GLM took 3 seconds         \n",
      "Computing run 2 out of 2 runs (4 seconds remaining)\n",
      "Masker took 0 seconds       \n",
      "/opt/anaconda3/envs/musicnf-novelinterface/lib/python3.13/site-packages/nilearn/glm/first_level/first_level.py:707: UserWarning: Mean values of 0 observed. The data have probably been centered.Scaling might not work as expected\n",
      "  Y, _ = mean_scaling(Y, self.signal_scaling)\n",
      "GLM took 1 seconds         \n",
      "\n",
      "Computation of 2 runs done in 6.550848007202148 seconds.\n",
      "\n"
     ]
    },
    {
     "name": "stdout",
     "output_type": "stream",
     "text": [
      "Processing subject 11\n",
      "Found physio file for sub-11 task-nf run-1\n",
      "Found physio file for sub-11 task-nf run-2\n"
     ]
    },
    {
     "name": "stderr",
     "output_type": "stream",
     "text": [
      "Computing run 1 out of 2 runs (go take a coffee, a big one)\n",
      "Masker took 0 seconds       \n",
      "GLM took 1 seconds         \n",
      "Computing run 2 out of 2 runs (2 seconds remaining)\n",
      "Masker took 0 seconds       \n",
      "/opt/anaconda3/envs/musicnf-novelinterface/lib/python3.13/site-packages/nilearn/glm/first_level/first_level.py:707: UserWarning: Mean values of 0 observed. The data have probably been centered.Scaling might not work as expected\n",
      "  Y, _ = mean_scaling(Y, self.signal_scaling)\n",
      "/opt/anaconda3/envs/musicnf-novelinterface/lib/python3.13/site-packages/joblib/externals/loky/process_executor.py:752: UserWarning: A worker stopped while some jobs were given to the executor. This can be caused by a too short worker timeout or by a memory leak.\n",
      "  warnings.warn(\n",
      "GLM took 2 seconds         \n",
      "\n",
      "Computation of 2 runs done in 5.955578088760376 seconds.\n",
      "\n"
     ]
    },
    {
     "name": "stdout",
     "output_type": "stream",
     "text": [
      "Processing subject 12\n",
      "Found physio file for sub-12 task-nf run-1\n",
      "Found physio file for sub-12 task-nf run-2\n"
     ]
    },
    {
     "name": "stderr",
     "output_type": "stream",
     "text": [
      "Computing run 1 out of 2 runs (go take a coffee, a big one)\n",
      "Masker took 0 seconds       \n",
      "GLM took 1 seconds         \n",
      "Computing run 2 out of 2 runs (2 seconds remaining)\n",
      "Masker took 0 seconds       \n",
      "GLM took 1 seconds         \n",
      "\n",
      "Computation of 2 runs done in 5.2962610721588135 seconds.\n",
      "\n"
     ]
    },
    {
     "name": "stdout",
     "output_type": "stream",
     "text": [
      "Processing subject 13\n",
      "Found physio file for sub-13 task-nf run-1\n",
      "Found physio file for sub-13 task-nf run-2\n"
     ]
    },
    {
     "name": "stderr",
     "output_type": "stream",
     "text": [
      "Computing run 1 out of 2 runs (go take a coffee, a big one)\n",
      "Masker took 0 seconds       \n",
      "GLM took 1 seconds         \n",
      "Computing run 2 out of 2 runs (2 seconds remaining)\n",
      "Masker took 0 seconds       \n",
      "/opt/anaconda3/envs/musicnf-novelinterface/lib/python3.13/site-packages/joblib/externals/loky/process_executor.py:752: UserWarning: A worker stopped while some jobs were given to the executor. This can be caused by a too short worker timeout or by a memory leak.\n",
      "  warnings.warn(\n",
      "GLM took 2 seconds         \n",
      "\n",
      "Computation of 2 runs done in 6.465563058853149 seconds.\n",
      "\n"
     ]
    },
    {
     "name": "stdout",
     "output_type": "stream",
     "text": [
      "Processing subject 14\n",
      "Found physio file for sub-14 task-nf run-1\n",
      "Found physio file for sub-14 task-nf run-2\n"
     ]
    },
    {
     "name": "stderr",
     "output_type": "stream",
     "text": [
      "Computing run 1 out of 2 runs (go take a coffee, a big one)\n",
      "Masker took 0 seconds       \n",
      "GLM took 1 seconds         \n",
      "Computing run 2 out of 2 runs (2 seconds remaining)\n",
      "Masker took 0 seconds       \n",
      "GLM took 1 seconds         \n",
      "\n",
      "Computation of 2 runs done in 4.8436877727508545 seconds.\n",
      "\n"
     ]
    },
    {
     "name": "stdout",
     "output_type": "stream",
     "text": [
      "Processing subject 15\n",
      "Found physio file for sub-15 task-nf run-1\n",
      "Found physio file for sub-15 task-nf run-2\n"
     ]
    },
    {
     "name": "stderr",
     "output_type": "stream",
     "text": [
      "Computing run 1 out of 2 runs (go take a coffee, a big one)\n",
      "Masker took 0 seconds       \n",
      "/opt/anaconda3/envs/musicnf-novelinterface/lib/python3.13/site-packages/joblib/externals/loky/process_executor.py:752: UserWarning: A worker stopped while some jobs were given to the executor. This can be caused by a too short worker timeout or by a memory leak.\n",
      "  warnings.warn(\n",
      "GLM took 2 seconds         \n",
      "Computing run 2 out of 2 runs (3 seconds remaining)\n",
      "Masker took 0 seconds       \n",
      "GLM took 1 seconds         \n",
      "\n",
      "Computation of 2 runs done in 5.655122995376587 seconds.\n",
      "\n"
     ]
    },
    {
     "name": "stdout",
     "output_type": "stream",
     "text": [
      "Processing subject 16\n",
      "Found physio file for sub-16 task-nf run-1\n",
      "Found physio file for sub-16 task-nf run-2\n"
     ]
    },
    {
     "name": "stderr",
     "output_type": "stream",
     "text": [
      "Computing run 1 out of 2 runs (go take a coffee, a big one)\n",
      "Masker took 0 seconds       \n",
      "GLM took 1 seconds         \n",
      "Computing run 2 out of 2 runs (2 seconds remaining)\n",
      "Masker took 0 seconds       \n",
      "/opt/anaconda3/envs/musicnf-novelinterface/lib/python3.13/site-packages/nilearn/glm/first_level/first_level.py:707: UserWarning: Mean values of 0 observed. The data have probably been centered.Scaling might not work as expected\n",
      "  Y, _ = mean_scaling(Y, self.signal_scaling)\n",
      "/opt/anaconda3/envs/musicnf-novelinterface/lib/python3.13/site-packages/joblib/externals/loky/process_executor.py:752: UserWarning: A worker stopped while some jobs were given to the executor. This can be caused by a too short worker timeout or by a memory leak.\n",
      "  warnings.warn(\n",
      "GLM took 2 seconds         \n",
      "\n",
      "Computation of 2 runs done in 6.009629249572754 seconds.\n",
      "\n"
     ]
    },
    {
     "name": "stdout",
     "output_type": "stream",
     "text": [
      "Processing subject 17\n",
      "Found physio file for sub-17 task-nf run-1\n",
      "Found physio file for sub-17 task-nf run-2\n"
     ]
    },
    {
     "name": "stderr",
     "output_type": "stream",
     "text": [
      "Computing run 1 out of 2 runs (go take a coffee, a big one)\n",
      "Masker took 0 seconds       \n",
      "GLM took 1 seconds         \n",
      "Computing run 2 out of 2 runs (2 seconds remaining)\n",
      "Masker took 0 seconds       \n",
      "GLM took 1 seconds         \n",
      "\n",
      "Computation of 2 runs done in 5.283779144287109 seconds.\n",
      "\n"
     ]
    },
    {
     "name": "stdout",
     "output_type": "stream",
     "text": [
      "Processing subject 18\n",
      "Found physio file for sub-18 task-nf run-1\n",
      "Found physio file for sub-18 task-nf run-2\n"
     ]
    },
    {
     "name": "stderr",
     "output_type": "stream",
     "text": [
      "Computing run 1 out of 2 runs (go take a coffee, a big one)\n",
      "Masker took 0 seconds       \n",
      "GLM took 1 seconds         \n",
      "Computing run 2 out of 2 runs (2 seconds remaining)\n",
      "Masker took 0 seconds       \n",
      "/opt/anaconda3/envs/musicnf-novelinterface/lib/python3.13/site-packages/nilearn/glm/first_level/first_level.py:707: UserWarning: Mean values of 0 observed. The data have probably been centered.Scaling might not work as expected\n",
      "  Y, _ = mean_scaling(Y, self.signal_scaling)\n",
      "GLM took 1 seconds         \n",
      "\n",
      "Computation of 2 runs done in 4.7588770389556885 seconds.\n",
      "\n"
     ]
    },
    {
     "name": "stdout",
     "output_type": "stream",
     "text": [
      "Processing subject 19\n",
      "Found physio file for sub-19 task-nf run-1\n",
      "Found physio file for sub-19 task-nf run-2\n"
     ]
    },
    {
     "name": "stderr",
     "output_type": "stream",
     "text": [
      "Computing run 1 out of 2 runs (go take a coffee, a big one)\n",
      "Masker took 0 seconds       \n",
      "/opt/anaconda3/envs/musicnf-novelinterface/lib/python3.13/site-packages/joblib/externals/loky/process_executor.py:752: UserWarning: A worker stopped while some jobs were given to the executor. This can be caused by a too short worker timeout or by a memory leak.\n",
      "  warnings.warn(\n",
      "GLM took 2 seconds         \n",
      "Computing run 2 out of 2 runs (3 seconds remaining)\n",
      "Masker took 0 seconds       \n",
      "/opt/anaconda3/envs/musicnf-novelinterface/lib/python3.13/site-packages/nilearn/glm/first_level/first_level.py:707: UserWarning: Mean values of 0 observed. The data have probably been centered.Scaling might not work as expected\n",
      "  Y, _ = mean_scaling(Y, self.signal_scaling)\n",
      "GLM took 1 seconds         \n",
      "\n",
      "Computation of 2 runs done in 6.114094018936157 seconds.\n",
      "\n"
     ]
    },
    {
     "name": "stdout",
     "output_type": "stream",
     "text": [
      "Processing subject 20\n",
      "Found physio file for sub-20 task-nf run-1\n",
      "Found physio file for sub-20 task-nf run-2\n"
     ]
    },
    {
     "name": "stderr",
     "output_type": "stream",
     "text": [
      "Computing run 1 out of 2 runs (go take a coffee, a big one)\n",
      "Masker took 0 seconds       \n",
      "GLM took 1 seconds         \n",
      "Computing run 2 out of 2 runs (2 seconds remaining)\n",
      "Masker took 0 seconds       \n",
      "/opt/anaconda3/envs/musicnf-novelinterface/lib/python3.13/site-packages/nilearn/glm/first_level/first_level.py:707: UserWarning: Mean values of 0 observed. The data have probably been centered.Scaling might not work as expected\n",
      "  Y, _ = mean_scaling(Y, self.signal_scaling)\n",
      "GLM took 1 seconds         \n",
      "\n",
      "Computation of 2 runs done in 4.810854196548462 seconds.\n",
      "\n"
     ]
    },
    {
     "name": "stdout",
     "output_type": "stream",
     "text": [
      "Processing subject 21\n",
      "Found physio file for sub-21 task-nf run-1\n",
      "Found physio file for sub-21 task-nf run-2\n"
     ]
    },
    {
     "name": "stderr",
     "output_type": "stream",
     "text": [
      "Computing run 1 out of 2 runs (go take a coffee, a big one)\n",
      "Masker took 0 seconds       \n",
      "GLM took 1 seconds         \n",
      "Computing run 2 out of 2 runs (2 seconds remaining)\n",
      "Masker took 0 seconds       \n",
      "/opt/anaconda3/envs/musicnf-novelinterface/lib/python3.13/site-packages/joblib/externals/loky/process_executor.py:752: UserWarning: A worker stopped while some jobs were given to the executor. This can be caused by a too short worker timeout or by a memory leak.\n",
      "  warnings.warn(\n",
      "GLM took 2 seconds         \n",
      "\n",
      "Computation of 2 runs done in 5.898303031921387 seconds.\n",
      "\n"
     ]
    },
    {
     "name": "stdout",
     "output_type": "stream",
     "text": [
      "Processing subject 22\n",
      "Found physio file for sub-22 task-nf run-1\n",
      "Found physio file for sub-22 task-nf run-2\n"
     ]
    },
    {
     "name": "stderr",
     "output_type": "stream",
     "text": [
      "Computing run 1 out of 2 runs (go take a coffee, a big one)\n",
      "Masker took 0 seconds       \n",
      "GLM took 1 seconds         \n",
      "Computing run 2 out of 2 runs (2 seconds remaining)\n",
      "Masker took 0 seconds       \n",
      "GLM took 1 seconds         \n",
      "\n",
      "Computation of 2 runs done in 5.058956861495972 seconds.\n",
      "\n"
     ]
    }
   ],
   "source": [
    "firstlevel(sett, task_label, hp_hz, contrast_list, contrast_renamed_list, use_masked_data=use_masked)"
   ]
  },
  {
   "cell_type": "markdown",
   "metadata": {},
   "source": [
    "## Sham Runs"
   ]
  },
  {
   "cell_type": "code",
   "execution_count": 4,
   "metadata": {},
   "outputs": [],
   "source": [
    "# Define\n",
    "task_label = 'sham'\n",
    "hp_hz = 0.008\n",
    "contrast_list = ['0.5*MotorImageryOne + 0.5*MotorImageryTwo',\n",
    "                 'MotorImageryOne', \n",
    "                 'MotorImageryTwo', \n",
    "                 'MotorImageryOne - MotorImageryTwo']\n",
    "\n",
    "contrast_renamed_list = ['MotorImageryOneTwo', \n",
    "                         'MotorImageryOne', \n",
    "                         'MotorImageryTwo', \n",
    "                         'MotorImageryOneMinusMotorImageryTwo']"
   ]
  },
  {
   "cell_type": "code",
   "execution_count": 5,
   "metadata": {},
   "outputs": [
    {
     "name": "stdout",
     "output_type": "stream",
     "text": [
      "Processing subject 01\n",
      "Found physio file for sub-01 task-sham run-1\n",
      "Found physio file for sub-01 task-sham run-2\n"
     ]
    },
    {
     "name": "stderr",
     "output_type": "stream",
     "text": [
      "Computing run 1 out of 2 runs (go take a coffee, a big one)\n",
      "Masker took 0 seconds       \n",
      "GLM took 2 seconds         \n",
      "Computing run 2 out of 2 runs (3 seconds remaining)\n",
      "Masker took 0 seconds       \n",
      "/opt/anaconda3/envs/musicnf-novelinterface/lib/python3.13/site-packages/nilearn/glm/first_level/first_level.py:707: UserWarning: Mean values of 0 observed. The data have probably been centered.Scaling might not work as expected\n",
      "  Y, _ = mean_scaling(Y, self.signal_scaling)\n",
      "GLM took 1 seconds         \n",
      "\n",
      "Computation of 2 runs done in 5.802671194076538 seconds.\n",
      "\n"
     ]
    },
    {
     "name": "stdout",
     "output_type": "stream",
     "text": [
      "Processing subject 02\n",
      "Found physio file for sub-02 task-sham run-1\n",
      "Found physio file for sub-02 task-sham run-2\n"
     ]
    },
    {
     "name": "stderr",
     "output_type": "stream",
     "text": [
      "Computing run 1 out of 2 runs (go take a coffee, a big one)\n",
      "Masker took 0 seconds       \n",
      "GLM took 1 seconds         \n",
      "Computing run 2 out of 2 runs (2 seconds remaining)\n",
      "Masker took 0 seconds       \n",
      "/opt/anaconda3/envs/musicnf-novelinterface/lib/python3.13/site-packages/nilearn/glm/first_level/first_level.py:707: UserWarning: Mean values of 0 observed. The data have probably been centered.Scaling might not work as expected\n",
      "  Y, _ = mean_scaling(Y, self.signal_scaling)\n",
      "GLM took 1 seconds         \n",
      "\n",
      "Computation of 2 runs done in 4.773244142532349 seconds.\n",
      "\n"
     ]
    },
    {
     "name": "stdout",
     "output_type": "stream",
     "text": [
      "Processing subject 03\n",
      "Found physio file for sub-03 task-sham run-1\n",
      "Found physio file for sub-03 task-sham run-2\n"
     ]
    },
    {
     "name": "stderr",
     "output_type": "stream",
     "text": [
      "Computing run 1 out of 2 runs (go take a coffee, a big one)\n",
      "Masker took 0 seconds       \n",
      "GLM took 1 seconds         \n",
      "Computing run 2 out of 2 runs (2 seconds remaining)\n",
      "Masker took 0 seconds       \n",
      "/opt/anaconda3/envs/musicnf-novelinterface/lib/python3.13/site-packages/nilearn/glm/first_level/first_level.py:707: UserWarning: Mean values of 0 observed. The data have probably been centered.Scaling might not work as expected\n",
      "  Y, _ = mean_scaling(Y, self.signal_scaling)\n",
      "GLM took 1 seconds         \n",
      "\n",
      "Computation of 2 runs done in 5.080049991607666 seconds.\n",
      "\n"
     ]
    },
    {
     "name": "stdout",
     "output_type": "stream",
     "text": [
      "Processing subject 04\n",
      "Found physio file for sub-04 task-sham run-1\n",
      "Found physio file for sub-04 task-sham run-2\n"
     ]
    },
    {
     "name": "stderr",
     "output_type": "stream",
     "text": [
      "Computing run 1 out of 2 runs (go take a coffee, a big one)\n",
      "Masker took 0 seconds       \n",
      "GLM took 1 seconds         \n",
      "Computing run 2 out of 2 runs (2 seconds remaining)\n",
      "Masker took 0 seconds       \n",
      "/opt/anaconda3/envs/musicnf-novelinterface/lib/python3.13/site-packages/nilearn/glm/first_level/first_level.py:707: UserWarning: Mean values of 0 observed. The data have probably been centered.Scaling might not work as expected\n",
      "  Y, _ = mean_scaling(Y, self.signal_scaling)\n",
      "/opt/anaconda3/envs/musicnf-novelinterface/lib/python3.13/site-packages/joblib/externals/loky/process_executor.py:752: UserWarning: A worker stopped while some jobs were given to the executor. This can be caused by a too short worker timeout or by a memory leak.\n",
      "  warnings.warn(\n",
      "GLM took 3 seconds         \n",
      "\n",
      "Computation of 2 runs done in 7.078798055648804 seconds.\n",
      "\n"
     ]
    },
    {
     "name": "stdout",
     "output_type": "stream",
     "text": [
      "Processing subject 05\n",
      "Found physio file for sub-05 task-sham run-1\n",
      "Found physio file for sub-05 task-sham run-2\n"
     ]
    },
    {
     "name": "stderr",
     "output_type": "stream",
     "text": [
      "Computing run 1 out of 2 runs (go take a coffee, a big one)\n",
      "Masker took 0 seconds       \n",
      "GLM took 1 seconds         \n",
      "Computing run 2 out of 2 runs (2 seconds remaining)\n",
      "Masker took 0 seconds       \n",
      "GLM took 1 seconds         \n",
      "\n",
      "Computation of 2 runs done in 4.755864143371582 seconds.\n",
      "\n"
     ]
    },
    {
     "name": "stdout",
     "output_type": "stream",
     "text": [
      "Processing subject 06\n",
      "Found physio file for sub-06 task-sham run-1\n",
      "Found physio file for sub-06 task-sham run-2\n"
     ]
    },
    {
     "name": "stderr",
     "output_type": "stream",
     "text": [
      "Computing run 1 out of 2 runs (go take a coffee, a big one)\n",
      "Masker took 0 seconds       \n",
      "GLM took 1 seconds         \n",
      "Computing run 2 out of 2 runs (2 seconds remaining)\n",
      "Masker took 0 seconds       \n",
      "/opt/anaconda3/envs/musicnf-novelinterface/lib/python3.13/site-packages/nilearn/glm/first_level/first_level.py:707: UserWarning: Mean values of 0 observed. The data have probably been centered.Scaling might not work as expected\n",
      "  Y, _ = mean_scaling(Y, self.signal_scaling)\n",
      "GLM took 1 seconds         \n",
      "\n",
      "Computation of 2 runs done in 4.8323447704315186 seconds.\n",
      "\n"
     ]
    },
    {
     "name": "stdout",
     "output_type": "stream",
     "text": [
      "Processing subject 07\n",
      "Found physio file for sub-07 task-sham run-1\n",
      "Found physio file for sub-07 task-sham run-2\n"
     ]
    },
    {
     "name": "stderr",
     "output_type": "stream",
     "text": [
      "Computing run 1 out of 2 runs (go take a coffee, a big one)\n",
      "Masker took 0 seconds       \n",
      "GLM took 1 seconds         \n",
      "Computing run 2 out of 2 runs (2 seconds remaining)\n",
      "Masker took 0 seconds       \n",
      "/opt/anaconda3/envs/musicnf-novelinterface/lib/python3.13/site-packages/nilearn/glm/first_level/first_level.py:707: UserWarning: Mean values of 0 observed. The data have probably been centered.Scaling might not work as expected\n",
      "  Y, _ = mean_scaling(Y, self.signal_scaling)\n",
      "/opt/anaconda3/envs/musicnf-novelinterface/lib/python3.13/site-packages/joblib/externals/loky/process_executor.py:752: UserWarning: A worker stopped while some jobs were given to the executor. This can be caused by a too short worker timeout or by a memory leak.\n",
      "  warnings.warn(\n",
      "GLM took 2 seconds         \n",
      "\n",
      "Computation of 2 runs done in 5.769215106964111 seconds.\n",
      "\n"
     ]
    },
    {
     "name": "stdout",
     "output_type": "stream",
     "text": [
      "Processing subject 08\n"
     ]
    },
    {
     "name": "stderr",
     "output_type": "stream",
     "text": [
      "Computing run 1 out of 2 runs (go take a coffee, a big one)\n",
      "Masker took 0 seconds       \n",
      "GLM took 1 seconds         \n",
      "Computing run 2 out of 2 runs (2 seconds remaining)\n",
      "Masker took 0 seconds       \n",
      "GLM took 1 seconds         \n",
      "\n",
      "Computation of 2 runs done in 4.755223751068115 seconds.\n",
      "\n"
     ]
    },
    {
     "name": "stdout",
     "output_type": "stream",
     "text": [
      "Processing subject 09\n",
      "Found physio file for sub-09 task-sham run-1\n",
      "Found physio file for sub-09 task-sham run-2\n"
     ]
    },
    {
     "name": "stderr",
     "output_type": "stream",
     "text": [
      "Computing run 1 out of 2 runs (go take a coffee, a big one)\n",
      "Masker took 0 seconds       \n",
      "GLM took 1 seconds         \n",
      "Computing run 2 out of 2 runs (2 seconds remaining)\n",
      "Masker took 0 seconds       \n",
      "GLM took 1 seconds         \n",
      "\n",
      "Computation of 2 runs done in 5.042859077453613 seconds.\n",
      "\n"
     ]
    },
    {
     "name": "stdout",
     "output_type": "stream",
     "text": [
      "Processing subject 10\n",
      "Found physio file for sub-10 task-sham run-1\n",
      "Found physio file for sub-10 task-sham run-2\n"
     ]
    },
    {
     "name": "stderr",
     "output_type": "stream",
     "text": [
      "Computing run 1 out of 2 runs (go take a coffee, a big one)\n",
      "Masker took 0 seconds       \n",
      "/opt/anaconda3/envs/musicnf-novelinterface/lib/python3.13/site-packages/joblib/externals/loky/process_executor.py:752: UserWarning: A worker stopped while some jobs were given to the executor. This can be caused by a too short worker timeout or by a memory leak.\n",
      "  warnings.warn(\n",
      "GLM took 2 seconds         \n",
      "Computing run 2 out of 2 runs (3 seconds remaining)\n",
      "Masker took 0 seconds       \n",
      "/opt/anaconda3/envs/musicnf-novelinterface/lib/python3.13/site-packages/nilearn/glm/first_level/first_level.py:707: UserWarning: Mean values of 0 observed. The data have probably been centered.Scaling might not work as expected\n",
      "  Y, _ = mean_scaling(Y, self.signal_scaling)\n",
      "GLM took 1 seconds         \n",
      "\n",
      "Computation of 2 runs done in 6.0008392333984375 seconds.\n",
      "\n"
     ]
    },
    {
     "name": "stdout",
     "output_type": "stream",
     "text": [
      "Processing subject 11\n",
      "Found physio file for sub-11 task-sham run-1\n",
      "Found physio file for sub-11 task-sham run-2\n"
     ]
    },
    {
     "name": "stderr",
     "output_type": "stream",
     "text": [
      "Computing run 1 out of 2 runs (go take a coffee, a big one)\n",
      "Masker took 0 seconds       \n",
      "GLM took 1 seconds         \n",
      "Computing run 2 out of 2 runs (2 seconds remaining)\n",
      "Masker took 0 seconds       \n",
      "GLM took 1 seconds         \n",
      "\n",
      "Computation of 2 runs done in 5.149535179138184 seconds.\n",
      "\n"
     ]
    },
    {
     "name": "stdout",
     "output_type": "stream",
     "text": [
      "Processing subject 12\n",
      "Found physio file for sub-12 task-sham run-1\n",
      "Found physio file for sub-12 task-sham run-2\n"
     ]
    },
    {
     "name": "stderr",
     "output_type": "stream",
     "text": [
      "Computing run 1 out of 2 runs (go take a coffee, a big one)\n",
      "Masker took 0 seconds       \n",
      "GLM took 1 seconds         \n",
      "Computing run 2 out of 2 runs (2 seconds remaining)\n",
      "Masker took 0 seconds       \n",
      "GLM took 1 seconds         \n",
      "\n",
      "Computation of 2 runs done in 5.137515068054199 seconds.\n",
      "\n"
     ]
    },
    {
     "name": "stdout",
     "output_type": "stream",
     "text": [
      "Processing subject 13\n",
      "Found physio file for sub-13 task-sham run-1\n",
      "Found physio file for sub-13 task-sham run-2\n"
     ]
    },
    {
     "name": "stderr",
     "output_type": "stream",
     "text": [
      "Computing run 1 out of 2 runs (go take a coffee, a big one)\n",
      "Masker took 0 seconds       \n",
      "GLM took 1 seconds         \n",
      "Computing run 2 out of 2 runs (2 seconds remaining)\n",
      "Masker took 0 seconds       \n",
      "GLM took 1 seconds         \n",
      "\n",
      "Computation of 2 runs done in 5.195354700088501 seconds.\n",
      "\n"
     ]
    },
    {
     "name": "stdout",
     "output_type": "stream",
     "text": [
      "Processing subject 14\n",
      "Found physio file for sub-14 task-sham run-1\n",
      "Found physio file for sub-14 task-sham run-2\n"
     ]
    },
    {
     "name": "stderr",
     "output_type": "stream",
     "text": [
      "Computing run 1 out of 2 runs (go take a coffee, a big one)\n",
      "Masker took 0 seconds       \n",
      "GLM took 1 seconds         \n",
      "Computing run 2 out of 2 runs (2 seconds remaining)\n",
      "Masker took 0 seconds       \n",
      "GLM took 1 seconds         \n",
      "\n",
      "Computation of 2 runs done in 4.931411027908325 seconds.\n",
      "\n"
     ]
    },
    {
     "name": "stdout",
     "output_type": "stream",
     "text": [
      "Processing subject 15\n",
      "Found physio file for sub-15 task-sham run-1\n",
      "Found physio file for sub-15 task-sham run-2\n"
     ]
    },
    {
     "name": "stderr",
     "output_type": "stream",
     "text": [
      "Computing run 1 out of 2 runs (go take a coffee, a big one)\n",
      "Masker took 0 seconds       \n",
      "/opt/anaconda3/envs/musicnf-novelinterface/lib/python3.13/site-packages/joblib/externals/loky/process_executor.py:752: UserWarning: A worker stopped while some jobs were given to the executor. This can be caused by a too short worker timeout or by a memory leak.\n",
      "  warnings.warn(\n",
      "GLM took 3 seconds         \n",
      "Computing run 2 out of 2 runs (4 seconds remaining)\n",
      "Masker took 0 seconds       \n",
      "GLM took 1 seconds         \n",
      "\n",
      "Computation of 2 runs done in 6.758991956710815 seconds.\n",
      "\n"
     ]
    },
    {
     "name": "stdout",
     "output_type": "stream",
     "text": [
      "Processing subject 16\n",
      "Found physio file for sub-16 task-sham run-1\n",
      "Found physio file for sub-16 task-sham run-2\n"
     ]
    },
    {
     "name": "stderr",
     "output_type": "stream",
     "text": [
      "Computing run 1 out of 2 runs (go take a coffee, a big one)\n",
      "Masker took 0 seconds       \n",
      "GLM took 1 seconds         \n",
      "Computing run 2 out of 2 runs (2 seconds remaining)\n",
      "Masker took 0 seconds       \n",
      "/opt/anaconda3/envs/musicnf-novelinterface/lib/python3.13/site-packages/nilearn/glm/first_level/first_level.py:707: UserWarning: Mean values of 0 observed. The data have probably been centered.Scaling might not work as expected\n",
      "  Y, _ = mean_scaling(Y, self.signal_scaling)\n",
      "GLM took 1 seconds         \n",
      "\n",
      "Computation of 2 runs done in 5.028981924057007 seconds.\n",
      "\n"
     ]
    },
    {
     "name": "stdout",
     "output_type": "stream",
     "text": [
      "Processing subject 17\n",
      "Found physio file for sub-17 task-sham run-1\n",
      "Found physio file for sub-17 task-sham run-2\n"
     ]
    },
    {
     "name": "stderr",
     "output_type": "stream",
     "text": [
      "Computing run 1 out of 2 runs (go take a coffee, a big one)\n",
      "Masker took 0 seconds       \n",
      "GLM took 1 seconds         \n",
      "Computing run 2 out of 2 runs (2 seconds remaining)\n",
      "Masker took 0 seconds       \n",
      "GLM took 1 seconds         \n",
      "\n",
      "Computation of 2 runs done in 5.152109146118164 seconds.\n",
      "\n"
     ]
    },
    {
     "name": "stdout",
     "output_type": "stream",
     "text": [
      "Processing subject 18\n",
      "Found physio file for sub-18 task-sham run-1\n",
      "Found physio file for sub-18 task-sham run-2\n"
     ]
    },
    {
     "name": "stderr",
     "output_type": "stream",
     "text": [
      "Computing run 1 out of 2 runs (go take a coffee, a big one)\n",
      "Masker took 0 seconds       \n",
      "/opt/anaconda3/envs/musicnf-novelinterface/lib/python3.13/site-packages/joblib/externals/loky/process_executor.py:752: UserWarning: A worker stopped while some jobs were given to the executor. This can be caused by a too short worker timeout or by a memory leak.\n",
      "  warnings.warn(\n",
      "GLM took 2 seconds         \n",
      "Computing run 2 out of 2 runs (3 seconds remaining)\n",
      "Masker took 0 seconds       \n",
      "GLM took 1 seconds         \n",
      "\n",
      "Computation of 2 runs done in 5.864734172821045 seconds.\n",
      "\n"
     ]
    },
    {
     "name": "stdout",
     "output_type": "stream",
     "text": [
      "Processing subject 19\n",
      "Found physio file for sub-19 task-sham run-1\n",
      "Found physio file for sub-19 task-sham run-2\n"
     ]
    },
    {
     "name": "stderr",
     "output_type": "stream",
     "text": [
      "Computing run 1 out of 2 runs (go take a coffee, a big one)\n",
      "Masker took 0 seconds       \n",
      "GLM took 1 seconds         \n",
      "Computing run 2 out of 2 runs (2 seconds remaining)\n",
      "Masker took 0 seconds       \n",
      "GLM took 1 seconds         \n",
      "\n",
      "Computation of 2 runs done in 5.3716490268707275 seconds.\n",
      "\n"
     ]
    },
    {
     "name": "stdout",
     "output_type": "stream",
     "text": [
      "Processing subject 20\n",
      "Found physio file for sub-20 task-sham run-1\n",
      "Found physio file for sub-20 task-sham run-2\n"
     ]
    },
    {
     "name": "stderr",
     "output_type": "stream",
     "text": [
      "Computing run 1 out of 2 runs (go take a coffee, a big one)\n",
      "Masker took 0 seconds       \n",
      "GLM took 1 seconds         \n",
      "Computing run 2 out of 2 runs (2 seconds remaining)\n",
      "Masker took 0 seconds       \n",
      "/opt/anaconda3/envs/musicnf-novelinterface/lib/python3.13/site-packages/nilearn/glm/first_level/first_level.py:707: UserWarning: Mean values of 0 observed. The data have probably been centered.Scaling might not work as expected\n",
      "  Y, _ = mean_scaling(Y, self.signal_scaling)\n",
      "/opt/anaconda3/envs/musicnf-novelinterface/lib/python3.13/site-packages/joblib/externals/loky/process_executor.py:752: UserWarning: A worker stopped while some jobs were given to the executor. This can be caused by a too short worker timeout or by a memory leak.\n",
      "  warnings.warn(\n",
      "GLM took 2 seconds         \n",
      "\n",
      "Computation of 2 runs done in 5.909477949142456 seconds.\n",
      "\n"
     ]
    },
    {
     "name": "stdout",
     "output_type": "stream",
     "text": [
      "Processing subject 21\n",
      "Found physio file for sub-21 task-sham run-1\n",
      "Found physio file for sub-21 task-sham run-2\n"
     ]
    },
    {
     "name": "stderr",
     "output_type": "stream",
     "text": [
      "Computing run 1 out of 2 runs (go take a coffee, a big one)\n",
      "Masker took 0 seconds       \n",
      "/opt/anaconda3/envs/musicnf-novelinterface/lib/python3.13/site-packages/joblib/externals/loky/process_executor.py:752: UserWarning: A worker stopped while some jobs were given to the executor. This can be caused by a too short worker timeout or by a memory leak.\n",
      "  warnings.warn(\n",
      "GLM took 1 seconds         \n",
      "Computing run 2 out of 2 runs (2 seconds remaining)\n",
      "Masker took 0 seconds       \n",
      "/opt/anaconda3/envs/musicnf-novelinterface/lib/python3.13/site-packages/nilearn/glm/first_level/first_level.py:707: UserWarning: Mean values of 0 observed. The data have probably been centered.Scaling might not work as expected\n",
      "  Y, _ = mean_scaling(Y, self.signal_scaling)\n",
      "GLM took 1 seconds         \n",
      "\n",
      "Computation of 2 runs done in 6.088962078094482 seconds.\n",
      "\n"
     ]
    },
    {
     "name": "stdout",
     "output_type": "stream",
     "text": [
      "Processing subject 22\n",
      "Found physio file for sub-22 task-sham run-1\n",
      "Found physio file for sub-22 task-sham run-2\n"
     ]
    },
    {
     "name": "stderr",
     "output_type": "stream",
     "text": [
      "Computing run 1 out of 2 runs (go take a coffee, a big one)\n",
      "Masker took 0 seconds       \n",
      "GLM took 1 seconds         \n",
      "Computing run 2 out of 2 runs (2 seconds remaining)\n",
      "Masker took 0 seconds       \n",
      "/opt/anaconda3/envs/musicnf-novelinterface/lib/python3.13/site-packages/joblib/externals/loky/process_executor.py:752: UserWarning: A worker stopped while some jobs were given to the executor. This can be caused by a too short worker timeout or by a memory leak.\n",
      "  warnings.warn(\n",
      "GLM took 2 seconds         \n",
      "\n",
      "Computation of 2 runs done in 5.92790412902832 seconds.\n",
      "\n"
     ]
    }
   ],
   "source": [
    "firstlevel(sett, task_label, hp_hz, contrast_list, contrast_renamed_list, use_masked_data=use_masked)"
   ]
  },
  {
   "cell_type": "markdown",
   "metadata": {},
   "source": [
    "## Localizer Runs"
   ]
  },
  {
   "cell_type": "code",
   "execution_count": 2,
   "metadata": {},
   "outputs": [
    {
     "data": {
      "text/plain": [
       "'12'"
      ]
     },
     "execution_count": 2,
     "metadata": {},
     "output_type": "execute_result"
    }
   ],
   "source": [
    "# Define\n",
    "task_label = 'loc'\n",
    "hp_hz = 0.008\n",
    "contrast_list = ['MotorImagery',\n",
    "                \"Music - Noise\",\n",
    "                \"MotorImagery - Music\",\n",
    "                \"MotorImagery - Noise\",\n",
    "                \"MotorImagery - Report\",\n",
    "                \"MotorImagery + Music - 2*Noise\"]\n",
    "\n",
    "contrast_renamed_list = ['MotorImagery',\n",
    "                         'MusicMinusNoise',\n",
    "                         'MotorImageryMinusMusic',\n",
    "                         'MotorImageryMinusNoise',\n",
    "                         'MotorImageryMinusReport',\n",
    "                         'MotorImageryMusicMinusNoise']\n",
    "\n",
    "sett[\"run_labels\"] = [\"1\"] # only one run for localizer\n",
    "sett[\"sub_labels\"].pop(11) # remove element \"12\" (index 11) from sett[\"sub_labels\"]"
   ]
  },
  {
   "cell_type": "code",
   "execution_count": 3,
   "metadata": {},
   "outputs": [
    {
     "name": "stdout",
     "output_type": "stream",
     "text": [
      "Processing subject 01\n",
      "Found physio file for sub-01 task-loc run-1\n"
     ]
    },
    {
     "name": "stderr",
     "output_type": "stream",
     "text": [
      "Computing run 1 out of 1 runs (go take a coffee, a big one)\n",
      "Masker took 0 seconds       \n",
      "GLM took 3 seconds         \n",
      "\n",
      "Computation of 1 runs done in 5.36306095123291 seconds.\n",
      "\n"
     ]
    },
    {
     "name": "stdout",
     "output_type": "stream",
     "text": [
      "Processing subject 02\n",
      "Found physio file for sub-02 task-loc run-1\n"
     ]
    },
    {
     "name": "stderr",
     "output_type": "stream",
     "text": [
      "Computing run 1 out of 1 runs (go take a coffee, a big one)\n",
      "Masker took 0 seconds       \n",
      "GLM took 1 seconds         \n",
      "\n",
      "Computation of 1 runs done in 3.7240309715270996 seconds.\n",
      "\n"
     ]
    },
    {
     "name": "stdout",
     "output_type": "stream",
     "text": [
      "Processing subject 03\n",
      "Found physio file for sub-03 task-loc run-1\n"
     ]
    },
    {
     "name": "stderr",
     "output_type": "stream",
     "text": [
      "Computing run 1 out of 1 runs (go take a coffee, a big one)\n",
      "Masker took 0 seconds       \n",
      "GLM took 1 seconds         \n",
      "\n",
      "Computation of 1 runs done in 3.5081140995025635 seconds.\n",
      "\n"
     ]
    },
    {
     "name": "stdout",
     "output_type": "stream",
     "text": [
      "Processing subject 04\n",
      "Found physio file for sub-04 task-loc run-1\n"
     ]
    },
    {
     "name": "stderr",
     "output_type": "stream",
     "text": [
      "Computing run 1 out of 1 runs (go take a coffee, a big one)\n",
      "Masker took 0 seconds       \n",
      "GLM took 2 seconds         \n",
      "\n",
      "Computation of 1 runs done in 3.652778148651123 seconds.\n",
      "\n"
     ]
    },
    {
     "name": "stdout",
     "output_type": "stream",
     "text": [
      "Processing subject 05\n",
      "Found physio file for sub-05 task-loc run-1\n"
     ]
    },
    {
     "name": "stderr",
     "output_type": "stream",
     "text": [
      "Computing run 1 out of 1 runs (go take a coffee, a big one)\n",
      "Masker took 0 seconds       \n",
      "GLM took 1 seconds         \n",
      "\n",
      "Computation of 1 runs done in 3.3114359378814697 seconds.\n",
      "\n"
     ]
    },
    {
     "name": "stdout",
     "output_type": "stream",
     "text": [
      "Processing subject 06\n",
      "Found physio file for sub-06 task-loc run-1\n"
     ]
    },
    {
     "name": "stderr",
     "output_type": "stream",
     "text": [
      "Computing run 1 out of 1 runs (go take a coffee, a big one)\n",
      "Masker took 0 seconds       \n",
      "/opt/anaconda3/envs/musicnf-novelinterface/lib/python3.13/site-packages/joblib/externals/loky/process_executor.py:752: UserWarning: A worker stopped while some jobs were given to the executor. This can be caused by a too short worker timeout or by a memory leak.\n",
      "  warnings.warn(\n",
      "GLM took 3 seconds         \n",
      "\n",
      "Computation of 1 runs done in 5.189233064651489 seconds.\n",
      "\n"
     ]
    },
    {
     "name": "stdout",
     "output_type": "stream",
     "text": [
      "Processing subject 07\n",
      "Found physio file for sub-07 task-loc run-1\n"
     ]
    },
    {
     "name": "stderr",
     "output_type": "stream",
     "text": [
      "Computing run 1 out of 1 runs (go take a coffee, a big one)\n",
      "Masker took 0 seconds       \n",
      "/opt/anaconda3/envs/musicnf-novelinterface/lib/python3.13/site-packages/joblib/externals/loky/process_executor.py:752: UserWarning: A worker stopped while some jobs were given to the executor. This can be caused by a too short worker timeout or by a memory leak.\n",
      "  warnings.warn(\n",
      "GLM took 1 seconds         \n",
      "\n",
      "Computation of 1 runs done in 3.7146859169006348 seconds.\n",
      "\n"
     ]
    },
    {
     "name": "stdout",
     "output_type": "stream",
     "text": [
      "Processing subject 08\n",
      "Found physio file for sub-08 task-loc run-1\n"
     ]
    },
    {
     "name": "stderr",
     "output_type": "stream",
     "text": [
      "Computing run 1 out of 1 runs (go take a coffee, a big one)\n",
      "Masker took 0 seconds       \n",
      "GLM took 2 seconds         \n",
      "\n",
      "Computation of 1 runs done in 4.098145961761475 seconds.\n",
      "\n"
     ]
    },
    {
     "name": "stdout",
     "output_type": "stream",
     "text": [
      "Processing subject 09\n",
      "Found physio file for sub-09 task-loc run-1\n"
     ]
    },
    {
     "name": "stderr",
     "output_type": "stream",
     "text": [
      "Computing run 1 out of 1 runs (go take a coffee, a big one)\n",
      "Masker took 0 seconds       \n",
      "/opt/anaconda3/envs/musicnf-novelinterface/lib/python3.13/site-packages/joblib/externals/loky/process_executor.py:752: UserWarning: A worker stopped while some jobs were given to the executor. This can be caused by a too short worker timeout or by a memory leak.\n",
      "  warnings.warn(\n",
      "GLM took 2 seconds         \n",
      "\n",
      "Computation of 1 runs done in 4.137567043304443 seconds.\n",
      "\n"
     ]
    },
    {
     "name": "stdout",
     "output_type": "stream",
     "text": [
      "Processing subject 10\n",
      "Found physio file for sub-10 task-loc run-1\n"
     ]
    },
    {
     "name": "stderr",
     "output_type": "stream",
     "text": [
      "Computing run 1 out of 1 runs (go take a coffee, a big one)\n",
      "Masker took 0 seconds       \n",
      "/opt/anaconda3/envs/musicnf-novelinterface/lib/python3.13/site-packages/joblib/externals/loky/process_executor.py:752: UserWarning: A worker stopped while some jobs were given to the executor. This can be caused by a too short worker timeout or by a memory leak.\n",
      "  warnings.warn(\n",
      "GLM took 2 seconds         \n",
      "\n",
      "Computation of 1 runs done in 4.073254823684692 seconds.\n",
      "\n"
     ]
    },
    {
     "name": "stdout",
     "output_type": "stream",
     "text": [
      "Processing subject 11\n",
      "Found physio file for sub-11 task-loc run-1\n"
     ]
    },
    {
     "name": "stderr",
     "output_type": "stream",
     "text": [
      "Computing run 1 out of 1 runs (go take a coffee, a big one)\n",
      "Masker took 0 seconds       \n",
      "GLM took 2 seconds         \n",
      "\n",
      "Computation of 1 runs done in 3.7646420001983643 seconds.\n",
      "\n"
     ]
    },
    {
     "name": "stdout",
     "output_type": "stream",
     "text": [
      "Processing subject 13\n",
      "Found physio file for sub-13 task-loc run-1\n"
     ]
    },
    {
     "name": "stderr",
     "output_type": "stream",
     "text": [
      "Computing run 1 out of 1 runs (go take a coffee, a big one)\n",
      "Masker took 0 seconds       \n",
      "/opt/anaconda3/envs/musicnf-novelinterface/lib/python3.13/site-packages/joblib/externals/loky/process_executor.py:752: UserWarning: A worker stopped while some jobs were given to the executor. This can be caused by a too short worker timeout or by a memory leak.\n",
      "  warnings.warn(\n",
      "GLM took 2 seconds         \n",
      "\n",
      "Computation of 1 runs done in 4.124072074890137 seconds.\n",
      "\n"
     ]
    },
    {
     "name": "stdout",
     "output_type": "stream",
     "text": [
      "Processing subject 14\n",
      "Found physio file for sub-14 task-loc run-1\n"
     ]
    },
    {
     "name": "stderr",
     "output_type": "stream",
     "text": [
      "Computing run 1 out of 1 runs (go take a coffee, a big one)\n",
      "Masker took 0 seconds       \n",
      "/opt/anaconda3/envs/musicnf-novelinterface/lib/python3.13/site-packages/joblib/externals/loky/process_executor.py:752: UserWarning: A worker stopped while some jobs were given to the executor. This can be caused by a too short worker timeout or by a memory leak.\n",
      "  warnings.warn(\n",
      "GLM took 2 seconds         \n",
      "\n",
      "Computation of 1 runs done in 4.094353914260864 seconds.\n",
      "\n"
     ]
    },
    {
     "name": "stdout",
     "output_type": "stream",
     "text": [
      "Processing subject 15\n",
      "Found physio file for sub-15 task-loc run-1\n"
     ]
    },
    {
     "name": "stderr",
     "output_type": "stream",
     "text": [
      "Computing run 1 out of 1 runs (go take a coffee, a big one)\n",
      "Masker took 0 seconds       \n",
      "GLM took 1 seconds         \n",
      "\n",
      "Computation of 1 runs done in 3.468942880630493 seconds.\n",
      "\n"
     ]
    },
    {
     "name": "stdout",
     "output_type": "stream",
     "text": [
      "Processing subject 16\n",
      "Found physio file for sub-16 task-loc run-1\n"
     ]
    },
    {
     "name": "stderr",
     "output_type": "stream",
     "text": [
      "Computing run 1 out of 1 runs (go take a coffee, a big one)\n",
      "Masker took 0 seconds       \n",
      "/opt/anaconda3/envs/musicnf-novelinterface/lib/python3.13/site-packages/joblib/externals/loky/process_executor.py:752: UserWarning: A worker stopped while some jobs were given to the executor. This can be caused by a too short worker timeout or by a memory leak.\n",
      "  warnings.warn(\n",
      "GLM took 3 seconds         \n",
      "\n",
      "Computation of 1 runs done in 4.9923319816589355 seconds.\n",
      "\n"
     ]
    },
    {
     "name": "stdout",
     "output_type": "stream",
     "text": [
      "Processing subject 17\n",
      "Found physio file for sub-17 task-loc run-1\n"
     ]
    },
    {
     "name": "stderr",
     "output_type": "stream",
     "text": [
      "Computing run 1 out of 1 runs (go take a coffee, a big one)\n",
      "Masker took 0 seconds       \n",
      "GLM took 1 seconds         \n",
      "\n",
      "Computation of 1 runs done in 3.672654151916504 seconds.\n",
      "\n"
     ]
    },
    {
     "name": "stdout",
     "output_type": "stream",
     "text": [
      "Processing subject 18\n",
      "Found physio file for sub-18 task-loc run-1\n"
     ]
    },
    {
     "name": "stderr",
     "output_type": "stream",
     "text": [
      "Computing run 1 out of 1 runs (go take a coffee, a big one)\n",
      "Masker took 0 seconds       \n",
      "GLM took 1 seconds         \n",
      "\n",
      "Computation of 1 runs done in 3.532939910888672 seconds.\n",
      "\n"
     ]
    },
    {
     "name": "stdout",
     "output_type": "stream",
     "text": [
      "Processing subject 19\n"
     ]
    },
    {
     "name": "stderr",
     "output_type": "stream",
     "text": [
      "Computing run 1 out of 1 runs (go take a coffee, a big one)\n",
      "Masker took 0 seconds       \n",
      "/opt/anaconda3/envs/musicnf-novelinterface/lib/python3.13/site-packages/joblib/externals/loky/process_executor.py:752: UserWarning: A worker stopped while some jobs were given to the executor. This can be caused by a too short worker timeout or by a memory leak.\n",
      "  warnings.warn(\n",
      "GLM took 2 seconds         \n",
      "\n",
      "Computation of 1 runs done in 4.021212100982666 seconds.\n",
      "\n"
     ]
    },
    {
     "name": "stdout",
     "output_type": "stream",
     "text": [
      "Processing subject 20\n",
      "Found physio file for sub-20 task-loc run-1\n"
     ]
    },
    {
     "name": "stderr",
     "output_type": "stream",
     "text": [
      "Computing run 1 out of 1 runs (go take a coffee, a big one)\n",
      "Masker took 0 seconds       \n",
      "/opt/anaconda3/envs/musicnf-novelinterface/lib/python3.13/site-packages/joblib/externals/loky/process_executor.py:752: UserWarning: A worker stopped while some jobs were given to the executor. This can be caused by a too short worker timeout or by a memory leak.\n",
      "  warnings.warn(\n",
      "GLM took 2 seconds         \n",
      "\n",
      "Computation of 1 runs done in 3.9431228637695312 seconds.\n",
      "\n"
     ]
    },
    {
     "name": "stdout",
     "output_type": "stream",
     "text": [
      "Processing subject 21\n",
      "Found physio file for sub-21 task-loc run-1\n"
     ]
    },
    {
     "name": "stderr",
     "output_type": "stream",
     "text": [
      "Computing run 1 out of 1 runs (go take a coffee, a big one)\n",
      "Masker took 0 seconds       \n",
      "GLM took 2 seconds         \n",
      "\n",
      "Computation of 1 runs done in 4.206910848617554 seconds.\n",
      "\n"
     ]
    },
    {
     "name": "stdout",
     "output_type": "stream",
     "text": [
      "Processing subject 22\n",
      "Found physio file for sub-22 task-loc run-1\n"
     ]
    },
    {
     "name": "stderr",
     "output_type": "stream",
     "text": [
      "Computing run 1 out of 1 runs (go take a coffee, a big one)\n",
      "Masker took 0 seconds       \n",
      "/opt/anaconda3/envs/musicnf-novelinterface/lib/python3.13/site-packages/joblib/externals/loky/process_executor.py:752: UserWarning: A worker stopped while some jobs were given to the executor. This can be caused by a too short worker timeout or by a memory leak.\n",
      "  warnings.warn(\n",
      "GLM took 3 seconds         \n",
      "\n",
      "Computation of 1 runs done in 5.16146993637085 seconds.\n",
      "\n"
     ]
    }
   ],
   "source": [
    "firstlevel(sett, task_label, hp_hz, contrast_list, contrast_renamed_list, use_masked_data=use_masked)"
   ]
  }
 ],
 "metadata": {
  "kernelspec": {
   "display_name": "musicnf-novelinterface",
   "language": "python",
   "name": "python3"
  },
  "language_info": {
   "codemirror_mode": {
    "name": "ipython",
    "version": 3
   },
   "file_extension": ".py",
   "mimetype": "text/x-python",
   "name": "python",
   "nbconvert_exporter": "python",
   "pygments_lexer": "ipython3",
   "version": "3.13.0"
  }
 },
 "nbformat": 4,
 "nbformat_minor": 2
}
