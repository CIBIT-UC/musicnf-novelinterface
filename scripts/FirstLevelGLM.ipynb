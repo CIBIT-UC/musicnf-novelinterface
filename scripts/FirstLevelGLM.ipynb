{
 "cells": [
  {
   "cell_type": "markdown",
   "metadata": {},
   "source": [
    "# First Level GLMs\n",
    "For the Localizer, NF, and Sham Runs."
   ]
  },
  {
   "cell_type": "code",
   "execution_count": 1,
   "metadata": {},
   "outputs": [],
   "source": [
    "from src.my_settings import settings\n",
    "from src.glm import firstlevel\n",
    "settings = settings()"
   ]
  },
  {
   "cell_type": "markdown",
   "metadata": {},
   "source": [
    "## NF Runs"
   ]
  },
  {
   "cell_type": "code",
   "execution_count": 2,
   "metadata": {},
   "outputs": [],
   "source": [
    "# Define\n",
    "task_label = 'nf'\n",
    "hp_hz = 0.008\n",
    "contrast_list = ['MotorImagery - Rest']\n",
    "contrast_renamed_list = ['MotorImageryMinusRest']"
   ]
  },
  {
   "cell_type": "code",
   "execution_count": null,
   "metadata": {},
   "outputs": [
    {
     "name": "stdout",
     "output_type": "stream",
     "text": [
      "Processing subject 01\n"
     ]
    },
    {
     "name": "stderr",
     "output_type": "stream",
     "text": [
      "/opt/anaconda3/envs/musicnf-novelinterface/lib/python3.13/site-packages/nilearn/glm/first_level/first_level.py:707: UserWarning: Mean values of 0 observed. The data have probably been centered.Scaling might not work as expected\n",
      "  Y, _ = mean_scaling(Y, self.signal_scaling)\n",
      "/Users/alexandresayal/GitHub/musicnf-novelinterface/src/glm.py:98: UserWarning: One contrast given, assuming it for all 2 runs\n",
      "  maps = fmri_glm.compute_contrast(contrast_list[ii], output_type=\"all\")\n"
     ]
    },
    {
     "name": "stdout",
     "output_type": "stream",
     "text": [
      "Processing subject 02\n"
     ]
    },
    {
     "name": "stderr",
     "output_type": "stream",
     "text": [
      "/opt/anaconda3/envs/musicnf-novelinterface/lib/python3.13/site-packages/nilearn/glm/first_level/first_level.py:707: UserWarning: Mean values of 0 observed. The data have probably been centered.Scaling might not work as expected\n",
      "  Y, _ = mean_scaling(Y, self.signal_scaling)\n",
      "/Users/alexandresayal/GitHub/musicnf-novelinterface/src/glm.py:98: UserWarning: One contrast given, assuming it for all 2 runs\n",
      "  maps = fmri_glm.compute_contrast(contrast_list[ii], output_type=\"all\")\n"
     ]
    },
    {
     "name": "stdout",
     "output_type": "stream",
     "text": [
      "Processing subject 03\n"
     ]
    },
    {
     "name": "stderr",
     "output_type": "stream",
     "text": [
      "/Users/alexandresayal/GitHub/musicnf-novelinterface/src/glm.py:98: UserWarning: One contrast given, assuming it for all 2 runs\n",
      "  maps = fmri_glm.compute_contrast(contrast_list[ii], output_type=\"all\")\n"
     ]
    },
    {
     "name": "stdout",
     "output_type": "stream",
     "text": [
      "Processing subject 04\n"
     ]
    },
    {
     "name": "stderr",
     "output_type": "stream",
     "text": [
      "/opt/anaconda3/envs/musicnf-novelinterface/lib/python3.13/site-packages/nilearn/glm/first_level/first_level.py:707: UserWarning: Mean values of 0 observed. The data have probably been centered.Scaling might not work as expected\n",
      "  Y, _ = mean_scaling(Y, self.signal_scaling)\n",
      "/Users/alexandresayal/GitHub/musicnf-novelinterface/src/glm.py:98: UserWarning: One contrast given, assuming it for all 2 runs\n",
      "  maps = fmri_glm.compute_contrast(contrast_list[ii], output_type=\"all\")\n"
     ]
    },
    {
     "name": "stdout",
     "output_type": "stream",
     "text": [
      "Processing subject 05\n"
     ]
    },
    {
     "name": "stderr",
     "output_type": "stream",
     "text": [
      "/opt/anaconda3/envs/musicnf-novelinterface/lib/python3.13/site-packages/nilearn/glm/first_level/first_level.py:707: UserWarning: Mean values of 0 observed. The data have probably been centered.Scaling might not work as expected\n",
      "  Y, _ = mean_scaling(Y, self.signal_scaling)\n",
      "/Users/alexandresayal/GitHub/musicnf-novelinterface/src/glm.py:98: UserWarning: One contrast given, assuming it for all 2 runs\n",
      "  maps = fmri_glm.compute_contrast(contrast_list[ii], output_type=\"all\")\n"
     ]
    },
    {
     "name": "stdout",
     "output_type": "stream",
     "text": [
      "Processing subject 06\n"
     ]
    }
   ],
   "source": [
    "firstlevel(settings, task_label, hp_hz, contrast_list, contrast_renamed_list)"
   ]
  },
  {
   "cell_type": "markdown",
   "metadata": {},
   "source": [
    "## Sham Runs"
   ]
  },
  {
   "cell_type": "code",
   "execution_count": null,
   "metadata": {},
   "outputs": [],
   "source": [
    "# Define\n",
    "task_label = 'sham'\n",
    "hp_hz = 0.008\n",
    "contrast_list = ['MotorImagery - Rest']\n",
    "contrast_renamed_list = ['MotorImageryMinusRest']"
   ]
  },
  {
   "cell_type": "code",
   "execution_count": null,
   "metadata": {},
   "outputs": [],
   "source": [
    "firstlevel(settings, task_label, hp_hz, contrast_list, contrast_renamed_list)"
   ]
  },
  {
   "cell_type": "markdown",
   "metadata": {},
   "source": [
    "## Localizer Runs"
   ]
  },
  {
   "cell_type": "code",
   "execution_count": null,
   "metadata": {},
   "outputs": [],
   "source": [
    "# Define\n",
    "task_label = 'loc'\n",
    "hp_hz = 0.008\n",
    "contrast_list = ['MotorImagery - Rest', \"Music - Noise\", \"MotorImagery - Rest - Music + Noise\",\"MotorImagery - Noise\",\"MotorImagery - Report\"]\n",
    "contrast_renamed_list = ['MotorImageryMinusRest', 'MusicMinusNoise', 'MotorImageryMinusMusic', 'MotorImageryMinusNoise', 'MotorImageryMinusReport']"
   ]
  },
  {
   "cell_type": "code",
   "execution_count": null,
   "metadata": {},
   "outputs": [],
   "source": [
    "firstlevel(settings, task_label, hp_hz, contrast_list, contrast_renamed_list)"
   ]
  }
 ],
 "metadata": {
  "kernelspec": {
   "display_name": "musicnf-novelinterface",
   "language": "python",
   "name": "python3"
  },
  "language_info": {
   "codemirror_mode": {
    "name": "ipython",
    "version": 3
   },
   "file_extension": ".py",
   "mimetype": "text/x-python",
   "name": "python",
   "nbconvert_exporter": "python",
   "pygments_lexer": "ipython3",
   "version": "3.13.0"
  }
 },
 "nbformat": 4,
 "nbformat_minor": 2
}
