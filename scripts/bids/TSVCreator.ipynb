{
 "cells": [
  {
   "cell_type": "code",
   "execution_count": 6,
   "metadata": {},
   "outputs": [],
   "source": [
    "# This scripts creates events.tsv for the main sample of subjects"
   ]
  },
  {
   "cell_type": "code",
   "execution_count": null,
   "metadata": {},
   "outputs": [],
   "source": [
    "import os\n",
    "\n",
    "from src.utils import seq2tsv"
   ]
  },
  {
   "cell_type": "markdown",
   "metadata": {},
   "source": [
    "# Settings"
   ]
  },
  {
   "cell_type": "code",
   "execution_count": null,
   "metadata": {},
   "outputs": [],
   "source": [
    "sub_id = \"22\""
   ]
  },
  {
   "cell_type": "code",
   "execution_count": null,
   "metadata": {},
   "outputs": [],
   "source": [
    "bids_path = \"/Volumes/T7/BIDS-MUSICNF\"\n",
    "subID_string = \"sub-\" + sub_id\n",
    "sub_bids_path = f\"{bids_path}/{subID_string}\"\n",
    "feedback_task_list = [\"nf\", \"sham\"]\n",
    "run_list = [\"1\", \"2\"]"
   ]
  },
  {
   "cell_type": "markdown",
   "metadata": {},
   "source": [
    "## Localizer"
   ]
  },
  {
   "cell_type": "code",
   "execution_count": null,
   "metadata": {},
   "outputs": [],
   "source": [
    "# define the sequence of conditions\n",
    "sequence = [\n",
    "    0,\n",
    "    1,\n",
    "    2,\n",
    "    3,\n",
    "    4,\n",
    "    5,\n",
    "    6,\n",
    "    1,\n",
    "    2,\n",
    "    3,\n",
    "    4,\n",
    "    5,\n",
    "    6,\n",
    "    1,\n",
    "    2,\n",
    "    3,\n",
    "    4,\n",
    "    5,\n",
    "    6,\n",
    "    1,\n",
    "    2,\n",
    "    3,\n",
    "    4,\n",
    "    5,\n",
    "    6,\n",
    "    1,\n",
    "    2,\n",
    "    3,\n",
    "    4,\n",
    "    5,\n",
    "    6,\n",
    "    1,\n",
    "    2,\n",
    "    3,\n",
    "    4,\n",
    "    5,\n",
    "    6,\n",
    "    1,\n",
    "    2,\n",
    "    3,\n",
    "    4,\n",
    "    5,\n",
    "    6,\n",
    "    1,\n",
    "    2,\n",
    "    3,\n",
    "    4,\n",
    "    5,\n",
    "    6,\n",
    "    1,\n",
    "]  # indexes in sequence\n",
    "\n",
    "# define the condition names\n",
    "conditions = [\"Discard\", \"Rest\", \"MotorImagery\", \"Noise\", \"Music\", \"Report\", \"Inter\"]\n",
    "\n",
    "# define the duration of each condition\n",
    "duration_percondition = [12, 12, 12, 12, 12, 6, 6]  # in seconds\n",
    "\n",
    "# define the output file path\n",
    "output_file_path = os.path.join(\n",
    "    sub_bids_path, \"func\", f\"{subID_string}_task-loc_run-1_events.tsv\"\n",
    ")\n",
    "\n",
    "# create the events.tsv file\n",
    "seq2tsv(sequence, conditions, duration_percondition, output_file_path)"
   ]
  },
  {
   "cell_type": "markdown",
   "metadata": {},
   "source": [
    "## NF Runs"
   ]
  },
  {
   "cell_type": "code",
   "execution_count": null,
   "metadata": {},
   "outputs": [],
   "source": [
    "# define the sequence of conditions\n",
    "sequence = [0, 1, 2, 1, 2, 1, 2, 1, 2, 1, 2, 1, 2, 3]  # indexes in sequence\n",
    "\n",
    "# define the condition names\n",
    "conditions = [\"Discard\", \"Rest\", \"MotorImagery\", \"RestFinal\"]\n",
    "\n",
    "# define the duration of each condition\n",
    "duration_percondition = [12, 30, 30, 12]  # in seconds\n",
    "\n",
    "# Iterate on the feedback tasks\n",
    "for feedback_task in feedback_task_list:\n",
    "    for run in run_list:\n",
    "        # define the output file path\n",
    "        output_file_path = os.path.join(\n",
    "            sub_bids_path,\n",
    "            \"func\",\n",
    "            f\"{subID_string}_task-{feedback_task}_run-{run}_events.tsv\",\n",
    "        )\n",
    "\n",
    "        # create the events.tsv file\n",
    "        seq2tsv(sequence, conditions, duration_percondition, output_file_path)\n"
   ]
  }
 ],
 "metadata": {
  "kernelspec": {
   "display_name": "musicnf-novelinterface",
   "language": "python",
   "name": "python3"
  },
  "language_info": {
   "codemirror_mode": {
    "name": "ipython",
    "version": 3
   },
   "file_extension": ".py",
   "mimetype": "text/x-python",
   "name": "python",
   "nbconvert_exporter": "python",
   "pygments_lexer": "ipython3",
   "version": "3.13.0"
  }
 },
 "nbformat": 4,
 "nbformat_minor": 2
}
