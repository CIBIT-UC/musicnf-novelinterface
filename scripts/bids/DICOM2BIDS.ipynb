{
 "cells": [
  {
   "cell_type": "markdown",
   "metadata": {},
   "source": [
    "# Notebook to guide and create the BIDS directory for this dataset\n",
    "\n",
    "1. Initialize folder structure with dcm2bids_scaffold before copying raw DICOM files\n",
    "2. Copy raw DICOM files to sourcedata folder\n",
    "3. Run dcm2bids (bash command) for each subject\n",
    "4. Edit .jsons of the fmap files due to fmriprep legacy format for bids relative paths\n",
    "5. Clear dot files\n",
    "\n",
    "Requirements:\n",
    "- dcm2bids version: 3.2.0\n",
    "- dcm2niix version: v1.0.20241211"
   ]
  },
  {
   "cell_type": "code",
   "execution_count": 5,
   "metadata": {},
   "outputs": [],
   "source": [
    "import os\n",
    "import json"
   ]
  },
  {
   "cell_type": "code",
   "execution_count": 6,
   "metadata": {},
   "outputs": [
    {
     "name": "stdout",
     "output_type": "stream",
     "text": [
      "\u001b[38;5;39mINFO    | --- dcm2bids_scaffold start ---\u001b[0m\n",
      "\u001b[38;5;39mINFO    | Running the following command: /opt/anaconda3/envs/musicnf-novelinterface/bin/dcm2bids_scaffold -o /Volumes/T7/BIDS-MUSICNF\u001b[0m\n",
      "\u001b[38;5;39mINFO    | OS version: macOS-15.2-arm64-arm-64bit-Mach-O\u001b[0m\n",
      "\u001b[38;5;39mINFO    | Python version: 3.13.0 | packaged by conda-forge | (main, Oct 17 2024, 12:32:35) [Clang 17.0.6 ]\u001b[0m\n",
      "\u001b[38;5;39mINFO    | dcm2bids version: 3.2.0\u001b[0m\n",
      "\u001b[38;5;39mINFO    | Checking for software update\u001b[0m\n",
      "\u001b[38;5;39mINFO    | Currently using the latest version of dcm2bids.\u001b[0m\n",
      "\u001b[38;5;39mINFO    | The files used to create your BIDS directory were taken from https://github.com/bids-standard/bids-starter-kit. \n",
      "\u001b[0m\n",
      "\u001b[38;5;39mINFO    | Tree representation of /Volumes/T7/BIDS-MUSICNF/\u001b[0m\n",
      "\u001b[38;5;39mINFO    | /Volumes/T7/BIDS-MUSICNF/\u001b[0m\n",
      "\u001b[38;5;39mINFO    | ├── code/\u001b[0m\n",
      "\u001b[38;5;39mINFO    | ├── derivatives/\u001b[0m\n",
      "\u001b[38;5;39mINFO    | ├── sourcedata/\u001b[0m\n",
      "\u001b[38;5;39mINFO    | ├── tmp_dcm2bids/\u001b[0m\n",
      "\u001b[38;5;39mINFO    | │   ├── log/\u001b[0m\n",
      "\u001b[38;5;39mINFO    | │   │   ├── ._scaffold_20250125-165404.log\u001b[0m\n",
      "\u001b[38;5;39mINFO    | │   │   └── scaffold_20250125-165404.log\u001b[0m\n",
      "\u001b[38;5;39mINFO    | │   └── ._log\u001b[0m\n",
      "\u001b[38;5;39mINFO    | ├── ._.bidsignore\u001b[0m\n",
      "\u001b[38;5;39mINFO    | ├── ._CHANGES\u001b[0m\n",
      "\u001b[38;5;39mINFO    | ├── ._code\u001b[0m\n",
      "\u001b[38;5;39mINFO    | ├── ._dataset_description.json\u001b[0m\n",
      "\u001b[38;5;39mINFO    | ├── ._derivatives\u001b[0m\n",
      "\u001b[38;5;39mINFO    | ├── ._participants.json\u001b[0m\n",
      "\u001b[38;5;39mINFO    | ├── ._participants.tsv\u001b[0m\n",
      "\u001b[38;5;39mINFO    | ├── ._README\u001b[0m\n",
      "\u001b[38;5;39mINFO    | ├── ._sourcedata\u001b[0m\n",
      "\u001b[38;5;39mINFO    | ├── ._tmp_dcm2bids\u001b[0m\n",
      "\u001b[38;5;39mINFO    | ├── .bidsignore\u001b[0m\n",
      "\u001b[38;5;39mINFO    | ├── CHANGES\u001b[0m\n",
      "\u001b[38;5;39mINFO    | ├── dataset_description.json\u001b[0m\n",
      "\u001b[38;5;39mINFO    | ├── participants.json\u001b[0m\n",
      "\u001b[38;5;39mINFO    | ├── participants.tsv\u001b[0m\n",
      "\u001b[38;5;39mINFO    | └── README\u001b[0m\n",
      "\u001b[38;5;39mINFO    | Log file saved at /Volumes/T7/BIDS-MUSICNF/tmp_dcm2bids/log/scaffold_20250125-165404.log\u001b[0m\n",
      "\u001b[38;5;39mINFO    | --- dcm2bids_scaffold end ---\u001b[0m\n"
     ]
    }
   ],
   "source": [
    "bids_dir = '/Volumes/T7/BIDS-MUSICNF'\n",
    "\n",
    "# create bids_dir if not exists\n",
    "if not os.path.exists(bids_dir):\n",
    "    os.makedirs(bids_dir)\n",
    "\n",
    "    # run dcm2bids_scaffold inside bids_dir\n",
    "    os.system('dcm2bids_scaffold -o %s' % bids_dir)"
   ]
  },
  {
   "cell_type": "markdown",
   "metadata": {},
   "source": [
    "## Copy files manually following this structure:\n",
    "\n",
    "```\n",
    "bidspath\n",
    "├── sourcedata\n",
    "│   ├── 01\n",
    "│   │   ├── 01 (optional session)\n",
    "│   │   │   ├── dicom files\n",
    "```"
   ]
  },
  {
   "cell_type": "markdown",
   "metadata": {},
   "source": [
    "## dcm2bids"
   ]
  },
  {
   "cell_type": "code",
   "execution_count": 7,
   "metadata": {},
   "outputs": [],
   "source": [
    "# get current path\n",
    "curr_dir = os.getcwd()"
   ]
  },
  {
   "cell_type": "code",
   "execution_count": null,
   "metadata": {},
   "outputs": [
    {
     "name": "stdout",
     "output_type": "stream",
     "text": [
      "\u001b[38;5;39mINFO    | --- dcm2bids start ---\u001b[0m\n",
      "\u001b[38;5;39mINFO    | Running the following command: /opt/anaconda3/envs/musicnf-novelinterface/bin/dcm2bids -d /Volumes/T7/BIDS-MUSICNF/sourcedata/03 -p 03 -c /Users/alexandresayal/GitHub/musicnf-novelinterface/scripts/bids/dcm2bids_config.json -o /Volumes/T7/BIDS-MUSICNF\u001b[0m\n",
      "\u001b[38;5;39mINFO    | OS version: macOS-15.2-arm64-arm-64bit-Mach-O\u001b[0m\n",
      "\u001b[38;5;39mINFO    | Python version: 3.13.0 | packaged by conda-forge | (main, Oct 17 2024, 12:32:35) [Clang 17.0.6 ]\u001b[0m\n",
      "\u001b[38;5;39mINFO    | dcm2bids version: 3.2.0\u001b[0m\n",
      "\u001b[38;5;39mINFO    | dcm2niix version: v1.0.20241211\u001b[0m\n",
      "\u001b[38;5;39mINFO    | Checking for software update\u001b[0m\n",
      "\u001b[38;5;39mINFO    | Currently using the latest version of dcm2bids.\u001b[0m\n",
      "\u001b[38;5;39mINFO    | Currently using the latest version of dcm2niix.\u001b[0m\n",
      "\u001b[38;5;39mINFO    | participant: sub-03\u001b[0m\n",
      "\u001b[38;5;39mINFO    | config: /Users/alexandresayal/GitHub/musicnf-novelinterface/scripts/bids/dcm2bids_config.json\u001b[0m\n",
      "\u001b[38;5;39mINFO    | BIDS directory: /Volumes/T7/BIDS-MUSICNF\u001b[0m\n",
      "\u001b[38;5;39mINFO    | Auto extract entities: False\u001b[0m\n",
      "\u001b[38;5;39mINFO    | Reorder entities: True\u001b[0m\n",
      "\u001b[38;5;39mINFO    | Validate BIDS: False\n",
      "\u001b[0m\n",
      "\u001b[38;5;39mINFO    | Running: dcm2niix -b y -ba y -z y -f %3s_%f_%p_%t -o /Volumes/T7/BIDS-MUSICNF/tmp_dcm2bids/sub-03 /Volumes/T7/BIDS-MUSICNF/sourcedata/03\u001b[0m\n"
     ]
    }
   ],
   "source": [
    "# Run dcm2bids (bash) for a single subject\n",
    "subject_id = '03'\n",
    "\n",
    "# run bash command for dcm2bids\n",
    "os.system(f\"dcm2bids \\\n",
    "          -d {bids_dir}/sourcedata/{subject_id} \\\n",
    "          -p {subject_id} \\\n",
    "          -c {curr_dir}/dcm2bids_config.json \\\n",
    "          -o {bids_dir}\")"
   ]
  },
  {
   "cell_type": "markdown",
   "metadata": {},
   "source": [
    "## Edit .jsons\n",
    "So fmriPrep does not yet support the BIDS URL format - bids::sub-01/func/... in the IntendedFor field. So, what we need to do is remove the 'bids::sub-XX/' part from the IntendedFor field in the .json files of the fieldmap files."
   ]
  },
  {
   "cell_type": "code",
   "execution_count": 18,
   "metadata": {},
   "outputs": [
    {
     "name": "stdout",
     "output_type": "stream",
     "text": [
      "['sub-02_magnitude1.json', 'sub-02_magnitude2.json', 'sub-02_phasediff.json']\n",
      "All three .json files are present in the fmap folder\n",
      "sub-02_magnitude1.json has been edited\n",
      "sub-02_magnitude2.json has been edited\n",
      "sub-02_phasediff.json has been edited\n"
     ]
    }
   ],
   "source": [
    "# we should have three .json files in the fmap folder of this subject\n",
    "fmap_dir = os.path.join(bids_dir, f'sub-{subject_id}', 'fmap')\n",
    "\n",
    "# get all .json files in the fmap folder\n",
    "fmap_files = [f for f in os.listdir(fmap_dir) if f.endswith('.json') and not f.startswith('.')]\n",
    "\n",
    "print(fmap_files)\n",
    "\n",
    "# check if they are three\n",
    "if len(fmap_files) == 3:\n",
    "    print('All three .json files are present in the fmap folder')\n",
    "\n",
    "# for each of the files, load the file, read the IntendedFor field, edit the field by removing the first part, and save it back\n",
    "for f in fmap_files:\n",
    "    with open(os.path.join(fmap_dir, f), 'r') as file:\n",
    "        data = json.load(file)\n",
    "        data['IntendedFor'] = [x.split(f'bids::sub-{subject_id}/')[1] for x in data['IntendedFor']]\n",
    "    with open(os.path.join(fmap_dir, f), 'w') as file:\n",
    "        json.dump(data, file, indent=4)\n",
    "        print(f'{f} has been edited')\n"
   ]
  },
  {
   "cell_type": "code",
   "execution_count": 14,
   "metadata": {},
   "outputs": [
    {
     "data": {
      "text/plain": [
       "0"
      ]
     },
     "execution_count": 14,
     "metadata": {},
     "output_type": "execute_result"
    }
   ],
   "source": [
    "# Clear all dot files\n",
    "\n",
    "os.system(f\"dot_clean -m {bids_dir}\")"
   ]
  }
 ],
 "metadata": {
  "kernelspec": {
   "display_name": "musicnf-novelinterface",
   "language": "python",
   "name": "python3"
  },
  "language_info": {
   "codemirror_mode": {
    "name": "ipython",
    "version": 3
   },
   "file_extension": ".py",
   "mimetype": "text/x-python",
   "name": "python",
   "nbconvert_exporter": "python",
   "pygments_lexer": "ipython3",
   "version": "3.13.0"
  }
 },
 "nbformat": 4,
 "nbformat_minor": 2
}
