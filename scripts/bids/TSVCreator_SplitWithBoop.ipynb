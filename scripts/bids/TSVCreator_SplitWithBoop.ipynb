{
 "cells": [
  {
   "cell_type": "code",
   "execution_count": 1,
   "metadata": {},
   "outputs": [],
   "source": [
    "# This scripts creates events.tsv for the main sample of subjects\n",
    "# Let's consider the boop and split the imagery block into 2 blocks"
   ]
  },
  {
   "cell_type": "code",
   "execution_count": 2,
   "metadata": {},
   "outputs": [],
   "source": [
    "import os\n",
    "from src.utils import seq2tsv\n",
    "from src.my_settings import settings\n",
    "\n",
    "sett = settings()"
   ]
  },
  {
   "cell_type": "markdown",
   "metadata": {},
   "source": [
    "# Settings"
   ]
  },
  {
   "cell_type": "code",
   "execution_count": 3,
   "metadata": {},
   "outputs": [],
   "source": [
    "feedback_task_list = ['nf','sham']\n",
    "\n",
    "## Localizer\n",
    "# define the sequence of conditions\n",
    "sequence_loc = [0, 1, 2, 3, 4, 5, 6, 1, 2, 3, 4, 5, 6, 1, 2, 3, 4, 5, 6, 1, 2, 3, 4, 5, 6, 1, 2, 3, 4, 5, 6, 1, 2, 3, 4, 5, 6,\n",
    "            1, 2, 3, 4, 5, 6, 1, 2, 3, 4, 5, 6, 1] # indexes in sequence\n",
    "\n",
    "# define the condition names\n",
    "conditions_loc = ['Discard', 'Rest', 'MotorImagery', 'Noise', 'Music', 'Report', 'Inter']\n",
    "\n",
    "# define the duration of each condition\n",
    "duration_percondition_loc = [12, 12, 12, 12, 12, 6, 6] # in seconds\n",
    "\n",
    "## Neurofeedback\n",
    "# define the sequence of conditions\n",
    "sequence_nf = [0, 1, 2, 3, 4, 1, 2, 3, 4, 1, 2, 3, 4, 1, 2, 3, 4, 1, 2, 3, 4, 1, 2, 3, 4, 5] # indexes in sequence\n",
    "\n",
    "# define the condition names\n",
    "conditions_nf = ['Discard', 'Rest', 'MotorImageryOne', 'Boop', 'MotorImageryTwo', 'RestFinal']\n",
    "\n",
    "# define the duration of each condition\n",
    "duration_percondition_nf = [12, 30, 13.5, 1.5, 15, 12] # in seconds"
   ]
  },
  {
   "cell_type": "markdown",
   "metadata": {},
   "source": [
    "# Iterate over all subjects"
   ]
  },
  {
   "cell_type": "code",
   "execution_count": 7,
   "metadata": {},
   "outputs": [
    {
     "name": "stdout",
     "output_type": "stream",
     "text": [
      "Creating events.tsv files for subject 01\n",
      "Creating events.tsv files for subject 02\n",
      "Creating events.tsv files for subject 03\n",
      "Creating events.tsv files for subject 04\n",
      "Creating events.tsv files for subject 05\n",
      "Creating events.tsv files for subject 06\n",
      "Creating events.tsv files for subject 07\n",
      "Creating events.tsv files for subject 08\n",
      "Creating events.tsv files for subject 09\n",
      "Creating events.tsv files for subject 10\n",
      "Creating events.tsv files for subject 11\n",
      "Creating events.tsv files for subject 12\n",
      "Creating events.tsv files for subject 13\n",
      "Creating events.tsv files for subject 14\n",
      "Creating events.tsv files for subject 15\n",
      "Creating events.tsv files for subject 16\n",
      "Creating events.tsv files for subject 17\n",
      "Creating events.tsv files for subject 18\n",
      "Creating events.tsv files for subject 19\n",
      "Creating events.tsv files for subject 20\n",
      "Creating events.tsv files for subject 21\n",
      "Creating events.tsv files for subject 22\n"
     ]
    }
   ],
   "source": [
    "for sub_id in sett[\"sub_labels\"]:\n",
    "\n",
    "    print(f'Creating events.tsv files for subject {sub_id}')\n",
    "    subID_string = 'sub-' + sub_id\n",
    "    sub_bids_path = f'{sett[\"bids_path\"]}/{subID_string}'\n",
    "\n",
    "    ## Localizer\n",
    "\n",
    "    # define the output file path\n",
    "    output_file_path_loc = os.path.join(sub_bids_path, 'func', f'{subID_string}_task-loc_run-1_events.tsv')\n",
    "\n",
    "    # create the events.tsv file\n",
    "    seq2tsv(sequence_loc, conditions_loc, duration_percondition_loc, output_file_path_loc)\n",
    "\n",
    "    ## Feedback\n",
    "\n",
    "    # Iterate on the feedback tasks\n",
    "    for feedback_task in feedback_task_list:\n",
    "        for run in sett[\"run_labels\"]:\n",
    "            # define the output file path\n",
    "            output_file_path_nf = os.path.join(sub_bids_path, 'func', f'{subID_string}_task-{feedback_task}_run-{run}_events.tsv')\n",
    "\n",
    "            # create the events.tsv file\n",
    "            seq2tsv(sequence_nf, conditions_nf, duration_percondition_nf, output_file_path_nf)\n",
    "    \n"
   ]
  },
  {
   "cell_type": "markdown",
   "metadata": {},
   "source": [
    "# Run separately for each subject"
   ]
  },
  {
   "cell_type": "markdown",
   "metadata": {},
   "source": [
    "## Localizer"
   ]
  },
  {
   "cell_type": "code",
   "execution_count": null,
   "metadata": {},
   "outputs": [],
   "source": [
    "# define the sequence of conditions\n",
    "sequence = [0, 1, 2, 3, 4, 5, 6, 1, 2, 3, 4, 5, 6, 1, 2, 3, 4, 5, 6, 1, 2, 3, 4, 5, 6, 1, 2, 3, 4, 5, 6, 1, 2, 3, 4, 5, 6,\n",
    "            1, 2, 3, 4, 5, 6, 1, 2, 3, 4, 5, 6, 1] # indexes in sequence\n",
    "\n",
    "# define the condition names\n",
    "conditions = ['Discard', 'Rest', 'MotorImagery', 'Noise', 'Music', 'Report', 'Inter']\n",
    "\n",
    "# define the duration of each condition\n",
    "duration_percondition = [12, 12, 12, 12, 12, 6, 6] # in seconds\n",
    "\n",
    "# define the output file path\n",
    "output_file_path = os.path.join(sub_bids_path, 'func', f'{subID_string}_task-loc_run-1_events.tsv')\n",
    "\n",
    "# create the events.tsv file\n",
    "seq2tsv(sequence, conditions, duration_percondition, output_file_path)"
   ]
  },
  {
   "cell_type": "markdown",
   "metadata": {},
   "source": [
    "## NF Runs"
   ]
  },
  {
   "cell_type": "code",
   "execution_count": 16,
   "metadata": {},
   "outputs": [],
   "source": [
    "# define the sequence of conditions\n",
    "sequence = [0, 1, 2, 3, 4, 1, 2, 3, 4, 1, 2, 3, 4, 1, 2, 3, 4, 1, 2, 3, 4, 1, 2, 3, 4, 5] # indexes in sequence\n",
    "\n",
    "# define the condition names\n",
    "conditions = ['Discard', 'Rest', 'MotorImageryOne', 'Boop', 'MotorImageryTwo', 'RestFinal']\n",
    "\n",
    "# define the duration of each condition\n",
    "duration_percondition = [12, 30, 13.5, 1.5, 15, 12] # in seconds\n",
    "\n",
    "# Iterate on the feedback tasks\n",
    "for feedback_task in feedback_task_list:\n",
    "    for run in run_list:\n",
    "        # define the output file path\n",
    "        output_file_path = os.path.join(sub_bids_path, 'func', f'{subID_string}_task-{feedback_task}_run-{run}_events.tsv')\n",
    "\n",
    "        # create the events.tsv file\n",
    "        seq2tsv(sequence, conditions, duration_percondition, output_file_path)\n"
   ]
  }
 ],
 "metadata": {
  "kernelspec": {
   "display_name": "musicnf-novelinterface",
   "language": "python",
   "name": "python3"
  },
  "language_info": {
   "codemirror_mode": {
    "name": "ipython",
    "version": 3
   },
   "file_extension": ".py",
   "mimetype": "text/x-python",
   "name": "python",
   "nbconvert_exporter": "python",
   "pygments_lexer": "ipython3",
   "version": "3.13.0"
  }
 },
 "nbformat": 4,
 "nbformat_minor": 2
}
