{
 "cells": [
  {
   "cell_type": "markdown",
   "metadata": {},
   "source": [
    "# Pleasantness ratings aquired during the localizer"
   ]
  },
  {
   "cell_type": "code",
   "execution_count": 5,
   "metadata": {},
   "outputs": [],
   "source": [
    "import os\n",
    "import pandas as pd\n",
    "from src.my_settings import settings\n",
    "sett = settings()\n",
    "\n",
    "# increase pandas column number display\n",
    "pd.set_option('display.max_columns', 500)"
   ]
  },
  {
   "cell_type": "code",
   "execution_count": 6,
   "metadata": {},
   "outputs": [
    {
     "name": "stdout",
     "output_type": "stream",
     "text": [
      "Found 22 csv files in /Users/alexandresayal/GitHub/musicnf-novelinterface/data/psychopy\n"
     ]
    }
   ],
   "source": [
    "csv_path = os.path.join(sett['git_path'], 'data', 'psychopy')\n",
    "\n",
    "# find all csv files in csv_path\n",
    "files = [f for f in os.listdir(csv_path) if f.endswith('.csv')]\n",
    "\n",
    "# print the number of files found\n",
    "print(f'Found {len(files)} csv files in {csv_path}')"
   ]
  },
  {
   "cell_type": "code",
   "execution_count": 23,
   "metadata": {},
   "outputs": [],
   "source": [
    "# Iterate over all files and extract the relevant information\n",
    "\n",
    "# create empty dataframe to store all data\n",
    "df = pd.DataFrame()\n",
    "\n",
    "for file in files:\n",
    "\n",
    "    # read in csv file\n",
    "    data = pd.read_csv(os.path.join(csv_path, file))\n",
    "\n",
    "    # extract relevant information\n",
    "    data = data[['image_rating_idx', 'music_samples', 'participant']]\n",
    "\n",
    "    # remove rows with NaNs\n",
    "    data = data.dropna()\n",
    "\n",
    "    # extract the music type from the music_samples column by extracting the third element after spliting by '_'\n",
    "    data['music_type'] = data['music_samples'].apply(lambda x: x.split('_')[2])\n",
    "\n",
    "    # remove the music_samples column\n",
    "    data = data.drop('music_samples', axis=1)\n",
    "\n",
    "    # concat data to df\n",
    "    df = pd.concat([df, data])"
   ]
  },
  {
   "cell_type": "code",
   "execution_count": 24,
   "metadata": {},
   "outputs": [
    {
     "data": {
      "text/html": [
       "<div>\n",
       "<style scoped>\n",
       "    .dataframe tbody tr th:only-of-type {\n",
       "        vertical-align: middle;\n",
       "    }\n",
       "\n",
       "    .dataframe tbody tr th {\n",
       "        vertical-align: top;\n",
       "    }\n",
       "\n",
       "    .dataframe thead th {\n",
       "        text-align: right;\n",
       "    }\n",
       "</style>\n",
       "<table border=\"1\" class=\"dataframe\">\n",
       "  <thead>\n",
       "    <tr style=\"text-align: right;\">\n",
       "      <th></th>\n",
       "      <th>image_rating_idx</th>\n",
       "      <th>participant</th>\n",
       "      <th>music_type</th>\n",
       "    </tr>\n",
       "  </thead>\n",
       "  <tbody>\n",
       "    <tr>\n",
       "      <th>2</th>\n",
       "      <td>4.0</td>\n",
       "      <td>loc108</td>\n",
       "      <td>p</td>\n",
       "    </tr>\n",
       "    <tr>\n",
       "      <th>3</th>\n",
       "      <td>5.0</td>\n",
       "      <td>loc108</td>\n",
       "      <td>p</td>\n",
       "    </tr>\n",
       "    <tr>\n",
       "      <th>4</th>\n",
       "      <td>5.0</td>\n",
       "      <td>loc108</td>\n",
       "      <td>p</td>\n",
       "    </tr>\n",
       "    <tr>\n",
       "      <th>5</th>\n",
       "      <td>2.0</td>\n",
       "      <td>loc108</td>\n",
       "      <td>n</td>\n",
       "    </tr>\n",
       "    <tr>\n",
       "      <th>6</th>\n",
       "      <td>3.0</td>\n",
       "      <td>loc108</td>\n",
       "      <td>p</td>\n",
       "    </tr>\n",
       "    <tr>\n",
       "      <th>...</th>\n",
       "      <td>...</td>\n",
       "      <td>...</td>\n",
       "      <td>...</td>\n",
       "    </tr>\n",
       "    <tr>\n",
       "      <th>5</th>\n",
       "      <td>3.0</td>\n",
       "      <td>loc146</td>\n",
       "      <td>n</td>\n",
       "    </tr>\n",
       "    <tr>\n",
       "      <th>6</th>\n",
       "      <td>2.0</td>\n",
       "      <td>loc146</td>\n",
       "      <td>n</td>\n",
       "    </tr>\n",
       "    <tr>\n",
       "      <th>7</th>\n",
       "      <td>4.0</td>\n",
       "      <td>loc146</td>\n",
       "      <td>p</td>\n",
       "    </tr>\n",
       "    <tr>\n",
       "      <th>8</th>\n",
       "      <td>4.0</td>\n",
       "      <td>loc146</td>\n",
       "      <td>p</td>\n",
       "    </tr>\n",
       "    <tr>\n",
       "      <th>9</th>\n",
       "      <td>4.0</td>\n",
       "      <td>loc146</td>\n",
       "      <td>p</td>\n",
       "    </tr>\n",
       "  </tbody>\n",
       "</table>\n",
       "<p>176 rows × 3 columns</p>\n",
       "</div>"
      ],
      "text/plain": [
       "    image_rating_idx participant music_type\n",
       "2                4.0      loc108          p\n",
       "3                5.0      loc108          p\n",
       "4                5.0      loc108          p\n",
       "5                2.0      loc108          n\n",
       "6                3.0      loc108          p\n",
       "..               ...         ...        ...\n",
       "5                3.0      loc146          n\n",
       "6                2.0      loc146          n\n",
       "7                4.0      loc146          p\n",
       "8                4.0      loc146          p\n",
       "9                4.0      loc146          p\n",
       "\n",
       "[176 rows x 3 columns]"
      ]
     },
     "execution_count": 24,
     "metadata": {},
     "output_type": "execute_result"
    }
   ],
   "source": [
    "df"
   ]
  },
  {
   "cell_type": "code",
   "execution_count": null,
   "metadata": {},
   "outputs": [
    {
     "data": {
      "text/plain": [
       "array([4., 5., 2., 3., 1.])"
      ]
     },
     "execution_count": 35,
     "metadata": {},
     "output_type": "execute_result"
    }
   ],
   "source": [
    "# find unique values for image_rating_idx\n",
    "df['image_rating_idx'].unique()"
   ]
  },
  {
   "cell_type": "code",
   "execution_count": 41,
   "metadata": {},
   "outputs": [
    {
     "name": "stdout",
     "output_type": "stream",
     "text": [
      "p-value: 1.4609822646944233e-17\n"
     ]
    },
    {
     "data": {
      "text/plain": [
       "([<matplotlib.axis.XTick at 0x308f04690>,\n",
       "  <matplotlib.axis.XTick at 0x308edfed0>],\n",
       " [Text(0, 0, 'Pleasant'), Text(1, 0, 'Unpleasant')])"
      ]
     },
     "execution_count": 41,
     "metadata": {},
     "output_type": "execute_result"
    },
    {
     "data": {
      "image/png": "[encoded data removed]",
      "text/plain": [
       "<Figure size 640x480 with 1 Axes>"
      ]
     },
     "metadata": {},
     "output_type": "display_data"
    }
   ],
   "source": [
    "# stat test\n",
    "from scipy.stats import mannwhitneyu\n",
    "\n",
    "p_val = mannwhitneyu(df[df['music_type'] == 'p']['image_rating_idx'], df[df['music_type'] == 'n']['image_rating_idx']).pvalue\n",
    "\n",
    "print(f'p-value: {p_val}')\n",
    "\n",
    "# box plot the ratings for each music type (p and n)\n",
    "import seaborn as sns\n",
    "import matplotlib.pyplot as plt\n",
    "\n",
    "sns.boxplot(x='music_type', y='image_rating_idx', data=df)\n",
    "\n",
    "# edit y ticks and labels\n",
    "plt.yticks([1, 2, 3, 4, 5], ['Unpleasant', 'Slightly unpleasant', 'Neutral', 'Slighly pleasant', 'Pleasant'])\n",
    "plt.ylabel('Ratings')\n",
    "\n",
    "plt.xlabel('Chord type')\n",
    "plt.xticks([0, 1], ['Pleasant', 'Unpleasant'])\n"
   ]
  }
 ],
 "metadata": {
  "kernelspec": {
   "display_name": "musicnf-novelinterface",
   "language": "python",
   "name": "python3"
  },
  "language_info": {
   "codemirror_mode": {
    "name": "ipython",
    "version": 3
   },
   "file_extension": ".py",
   "mimetype": "text/x-python",
   "name": "python",
   "nbconvert_exporter": "python",
   "pygments_lexer": "ipython3",
   "version": "3.13.0"
  }
 },
 "nbformat": 4,
 "nbformat_minor": 2
}
